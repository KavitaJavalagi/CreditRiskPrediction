{
 "cells": [
  {
   "cell_type": "markdown",
   "id": "ca32938c",
   "metadata": {},
   "source": [
    "# CIS8005 Data programming Project Submission- Credit Risk Prediction\n",
    "# Instructor: Andrea Aria\n",
    "# Submitted by Python Panthers\n",
    "# Date: 20th February, 2023\n",
    "<!-- # Introduction - Guys plz fill group details and course number, name, prof name, date and mention final project. Make it beautiful. -->\n",
    "<!-- # Need to improve problem statement. Need to properly explain it.\n",
    "# Dataset description for each col also need to give. Found on kaggle like that.\n",
    "# also need to add details about each plot and each steps.  -->\n",
    "\n"
   ]
  },
  {
   "cell_type": "markdown",
   "id": "9108480e",
   "metadata": {},
   "source": [
    "\n",
    "\n",
    "## Problem Statement\n",
    "- The aim of this project is to develop a credit risk prediction model to determine whether a new customer is likely to default on a loan or make timely payments. The model will be trained on a historical dataset of past borrowers' credit information, including various features such as age, loan amount, loan purpose, credit score, employment status, income, and other relevant factors that may influence the likelihood of default. The model will predict a binary output, indicating whether a new loan applicant is a high or low credit risk.\n",
    "\n",
    "- To achieve this goal, we will use a machine learning approach and build a classification model using the historical data. We will use various techniques to preprocess and clean the data, including handling missing values, normalizing or scaling the data, and feature engineering. We will also perform exploratory data analysis to identify patterns and relationships in the data that may help improve the accuracy of the model.\n",
    "\n",
    "- Finally, we will evaluate the performance of the model using various evaluation metrics, such as accuracy, precision, recall, and F1-score. We will also perform cross-validation to ensure the model's generalizability to new and unseen data.\n",
    "\n",
    "- The outcome of this project will be a reliable and accurate credit risk prediction model that can be used to inform lending decisions and reduce the risk of loan defaults.\n",
    "\n",
    "\n",
    "\n",
    "## Dataset Description\n",
    "\n",
    "Credit Risk Dataset is available on Kaggle and contains a detailed information on 32581 loan applicants. The target variable is 'Loan Status' which has values 0 and 1 (0 is non default & 1 is default). This dataset is highly imbalanced and consists of following input features:\n",
    "\n",
    " 1) person_age - Customer Age in years\n",
    " \n",
    " 2) person_income - Annual Income of customer\n",
    " \n",
    " 3) person_home_ownership - Home ownership\n",
    " \n",
    " 4) person_emp_length - Employment length (in years) \n",
    " \n",
    " 5) loan_intent - Loan intent \n",
    " \n",
    " 6) loan_grade - Loan grade \n",
    " \n",
    " 7) loan_amnt- Loan amount \n",
    " \n",
    " 8) loan_int_rat - Interest rate \n",
    " \n",
    " 9) loan_percent_income - Percent income \n",
    " \n",
    " 10) cb_person_default_on_file - Historical default \n",
    " \n",
    " 11) cb_person_cred_hist_length - Credit history length\n",
    "\n",
    "Target variable: loan_status - Loan status (0 is non default 1 is default)"
   ]
  },
  {
   "cell_type": "markdown",
   "id": "83306253",
   "metadata": {},
   "source": [
    "# Methodology CRISP DM\n",
    "CRISP-DM (Cross-Industry Standard Process for Data Mining) is a widely used methodology for data mining, also known as the data mining process model. It provides a structured approach to solving business problems using data mining techniques.\n",
    "\n",
    "The CRISP-DM methodology consists of six phases:\n",
    "\n",
    "- Business Understanding: In this phase, the business problem is defined and the objectives of the project are established.\n",
    "\n",
    "- Data Understanding: In this phase, the data is collected, explored, and described. This includes identifying data sources, understanding data quality, and evaluating data relevance.\n",
    "\n",
    "- Data Preparation: In this phase, the data is cleaned, integrated, transformed, and formatted in preparation for modeling.\n",
    "\n",
    "- Modeling: In this phase, statistical and machine learning models are selected, built, and evaluated. The best model is selected based on its performance in meeting the project objectives.\n",
    "\n",
    "- Evaluation: In this phase, the performance of the model is evaluated in the context of the business problem. The results are interpreted and recommendations are made.\n",
    "\n",
    "- Deployment: In this phase, the model is integrated into the business processes, and the solution is deployed to the end-users.\n",
    "\n",
    "The CRISP-DM methodology is iterative, meaning that the phases are repeated as necessary until the project objectives are met. The methodology is flexible and can be adapted to different types of projects and data mining problems."
   ]
  },
  {
   "cell_type": "markdown",
   "id": "6d8082fa",
   "metadata": {},
   "source": [
    "# Import Libraries"
   ]
  },
  {
   "cell_type": "code",
   "execution_count": 1,
   "id": "0f67963c",
   "metadata": {},
   "outputs": [],
   "source": [
    "import matplotlib.pyplot as plt \n",
    "import numpy as np \n",
    "import pandas as pd \n",
    "import seaborn as sns\n",
    "from sklearn.model_selection import train_test_split\n",
    "from sklearn.metrics import accuracy_score,f1_score,confusion_matrix,precision_score,classification_report,recall_score\n",
    "from sklearn.ensemble import RandomForestClassifier\n",
    "from sklearn.tree import DecisionTreeClassifier\n",
    "from sklearn import tree\n",
    "from sklearn.tree import DecisionTreeRegressor \n",
    "from sklearn.linear_model import LogisticRegression\n",
    "from sklearn.metrics import confusion_matrix\n",
    "import warnings\n",
    "warnings.filterwarnings('ignore')\n",
    "from sklearn.linear_model import LinearRegression"
   ]
  },
  {
   "cell_type": "markdown",
   "id": "92ee6dba",
   "metadata": {},
   "source": [
    "# 1) Read the Dataset"
   ]
  },
  {
   "cell_type": "code",
   "execution_count": 2,
   "id": "69e1b432",
   "metadata": {},
   "outputs": [],
   "source": [
    "df = pd.read_csv('credit_risk_dataset.csv')"
   ]
  },
  {
   "cell_type": "code",
   "execution_count": 3,
   "id": "967952ca",
   "metadata": {
    "scrolled": true
   },
   "outputs": [
    {
     "data": {
      "text/html": [
       "<div>\n",
       "<style scoped>\n",
       "    .dataframe tbody tr th:only-of-type {\n",
       "        vertical-align: middle;\n",
       "    }\n",
       "\n",
       "    .dataframe tbody tr th {\n",
       "        vertical-align: top;\n",
       "    }\n",
       "\n",
       "    .dataframe thead th {\n",
       "        text-align: right;\n",
       "    }\n",
       "</style>\n",
       "<table border=\"1\" class=\"dataframe\">\n",
       "  <thead>\n",
       "    <tr style=\"text-align: right;\">\n",
       "      <th></th>\n",
       "      <th>person_age</th>\n",
       "      <th>person_income</th>\n",
       "      <th>person_home_ownership</th>\n",
       "      <th>person_emp_length</th>\n",
       "      <th>loan_intent</th>\n",
       "      <th>loan_grade</th>\n",
       "      <th>loan_amnt</th>\n",
       "      <th>loan_int_rate</th>\n",
       "      <th>loan_status</th>\n",
       "      <th>loan_percent_income</th>\n",
       "      <th>cb_person_default_on_file</th>\n",
       "      <th>cb_person_cred_hist_length</th>\n",
       "    </tr>\n",
       "  </thead>\n",
       "  <tbody>\n",
       "    <tr>\n",
       "      <th>0</th>\n",
       "      <td>22</td>\n",
       "      <td>59000</td>\n",
       "      <td>RENT</td>\n",
       "      <td>123.0</td>\n",
       "      <td>PERSONAL</td>\n",
       "      <td>D</td>\n",
       "      <td>35000</td>\n",
       "      <td>16.02</td>\n",
       "      <td>1</td>\n",
       "      <td>0.59</td>\n",
       "      <td>Y</td>\n",
       "      <td>3</td>\n",
       "    </tr>\n",
       "    <tr>\n",
       "      <th>1</th>\n",
       "      <td>21</td>\n",
       "      <td>9600</td>\n",
       "      <td>OWN</td>\n",
       "      <td>5.0</td>\n",
       "      <td>EDUCATION</td>\n",
       "      <td>B</td>\n",
       "      <td>1000</td>\n",
       "      <td>11.14</td>\n",
       "      <td>0</td>\n",
       "      <td>0.10</td>\n",
       "      <td>N</td>\n",
       "      <td>2</td>\n",
       "    </tr>\n",
       "    <tr>\n",
       "      <th>2</th>\n",
       "      <td>25</td>\n",
       "      <td>9600</td>\n",
       "      <td>MORTGAGE</td>\n",
       "      <td>1.0</td>\n",
       "      <td>MEDICAL</td>\n",
       "      <td>C</td>\n",
       "      <td>5500</td>\n",
       "      <td>12.87</td>\n",
       "      <td>1</td>\n",
       "      <td>0.57</td>\n",
       "      <td>N</td>\n",
       "      <td>3</td>\n",
       "    </tr>\n",
       "    <tr>\n",
       "      <th>3</th>\n",
       "      <td>23</td>\n",
       "      <td>65500</td>\n",
       "      <td>RENT</td>\n",
       "      <td>4.0</td>\n",
       "      <td>MEDICAL</td>\n",
       "      <td>C</td>\n",
       "      <td>35000</td>\n",
       "      <td>15.23</td>\n",
       "      <td>1</td>\n",
       "      <td>0.53</td>\n",
       "      <td>N</td>\n",
       "      <td>2</td>\n",
       "    </tr>\n",
       "    <tr>\n",
       "      <th>4</th>\n",
       "      <td>24</td>\n",
       "      <td>54400</td>\n",
       "      <td>RENT</td>\n",
       "      <td>8.0</td>\n",
       "      <td>MEDICAL</td>\n",
       "      <td>C</td>\n",
       "      <td>35000</td>\n",
       "      <td>14.27</td>\n",
       "      <td>1</td>\n",
       "      <td>0.55</td>\n",
       "      <td>Y</td>\n",
       "      <td>4</td>\n",
       "    </tr>\n",
       "    <tr>\n",
       "      <th>5</th>\n",
       "      <td>21</td>\n",
       "      <td>9900</td>\n",
       "      <td>OWN</td>\n",
       "      <td>2.0</td>\n",
       "      <td>VENTURE</td>\n",
       "      <td>A</td>\n",
       "      <td>2500</td>\n",
       "      <td>7.14</td>\n",
       "      <td>1</td>\n",
       "      <td>0.25</td>\n",
       "      <td>N</td>\n",
       "      <td>2</td>\n",
       "    </tr>\n",
       "    <tr>\n",
       "      <th>6</th>\n",
       "      <td>26</td>\n",
       "      <td>77100</td>\n",
       "      <td>RENT</td>\n",
       "      <td>8.0</td>\n",
       "      <td>EDUCATION</td>\n",
       "      <td>B</td>\n",
       "      <td>35000</td>\n",
       "      <td>12.42</td>\n",
       "      <td>1</td>\n",
       "      <td>0.45</td>\n",
       "      <td>N</td>\n",
       "      <td>3</td>\n",
       "    </tr>\n",
       "    <tr>\n",
       "      <th>7</th>\n",
       "      <td>24</td>\n",
       "      <td>78956</td>\n",
       "      <td>RENT</td>\n",
       "      <td>5.0</td>\n",
       "      <td>MEDICAL</td>\n",
       "      <td>B</td>\n",
       "      <td>35000</td>\n",
       "      <td>11.11</td>\n",
       "      <td>1</td>\n",
       "      <td>0.44</td>\n",
       "      <td>N</td>\n",
       "      <td>4</td>\n",
       "    </tr>\n",
       "    <tr>\n",
       "      <th>8</th>\n",
       "      <td>24</td>\n",
       "      <td>83000</td>\n",
       "      <td>RENT</td>\n",
       "      <td>8.0</td>\n",
       "      <td>PERSONAL</td>\n",
       "      <td>A</td>\n",
       "      <td>35000</td>\n",
       "      <td>8.90</td>\n",
       "      <td>1</td>\n",
       "      <td>0.42</td>\n",
       "      <td>N</td>\n",
       "      <td>2</td>\n",
       "    </tr>\n",
       "    <tr>\n",
       "      <th>9</th>\n",
       "      <td>21</td>\n",
       "      <td>10000</td>\n",
       "      <td>OWN</td>\n",
       "      <td>6.0</td>\n",
       "      <td>VENTURE</td>\n",
       "      <td>D</td>\n",
       "      <td>1600</td>\n",
       "      <td>14.74</td>\n",
       "      <td>1</td>\n",
       "      <td>0.16</td>\n",
       "      <td>N</td>\n",
       "      <td>3</td>\n",
       "    </tr>\n",
       "  </tbody>\n",
       "</table>\n",
       "</div>"
      ],
      "text/plain": [
       "   person_age  person_income person_home_ownership  person_emp_length  \\\n",
       "0          22          59000                  RENT              123.0   \n",
       "1          21           9600                   OWN                5.0   \n",
       "2          25           9600              MORTGAGE                1.0   \n",
       "3          23          65500                  RENT                4.0   \n",
       "4          24          54400                  RENT                8.0   \n",
       "5          21           9900                   OWN                2.0   \n",
       "6          26          77100                  RENT                8.0   \n",
       "7          24          78956                  RENT                5.0   \n",
       "8          24          83000                  RENT                8.0   \n",
       "9          21          10000                   OWN                6.0   \n",
       "\n",
       "  loan_intent loan_grade  loan_amnt  loan_int_rate  loan_status  \\\n",
       "0    PERSONAL          D      35000          16.02            1   \n",
       "1   EDUCATION          B       1000          11.14            0   \n",
       "2     MEDICAL          C       5500          12.87            1   \n",
       "3     MEDICAL          C      35000          15.23            1   \n",
       "4     MEDICAL          C      35000          14.27            1   \n",
       "5     VENTURE          A       2500           7.14            1   \n",
       "6   EDUCATION          B      35000          12.42            1   \n",
       "7     MEDICAL          B      35000          11.11            1   \n",
       "8    PERSONAL          A      35000           8.90            1   \n",
       "9     VENTURE          D       1600          14.74            1   \n",
       "\n",
       "   loan_percent_income cb_person_default_on_file  cb_person_cred_hist_length  \n",
       "0                 0.59                         Y                           3  \n",
       "1                 0.10                         N                           2  \n",
       "2                 0.57                         N                           3  \n",
       "3                 0.53                         N                           2  \n",
       "4                 0.55                         Y                           4  \n",
       "5                 0.25                         N                           2  \n",
       "6                 0.45                         N                           3  \n",
       "7                 0.44                         N                           4  \n",
       "8                 0.42                         N                           2  \n",
       "9                 0.16                         N                           3  "
      ]
     },
     "execution_count": 3,
     "metadata": {},
     "output_type": "execute_result"
    }
   ],
   "source": [
    "df.head(10)"
   ]
  },
  {
   "cell_type": "markdown",
   "id": "a9abd4fe",
   "metadata": {},
   "source": [
    "# 2) Data Cleaning, Pre Processing and Exploratory Data Analysis\n",
    "\n",
    "Data Cleaning, Pre-processing, and Exploratory Data Analysis (EDA) are critical steps in any data analysis or machine learning project. These steps are crucial to ensure that the data is in a suitable form for modeling and analysis. Following are the steps that we followed in our project:\n",
    "\n",
    "a) Handling Outliers: Outliers are data points that are significantly different from the other data points in a dataset. They can have a significant impact on statistical analyses and can lead to incorrect conclusions if not handled properly.We are using boxplots for identifying outliers in a dataset.\n",
    "\n",
    "b) EDA - Exploratory Data Analysis: EDA can help to identify outliers, missing values, and inconsistencies in the data, as well as to generate hypotheses for further analysis.\n",
    "\n",
    "c) Handling NaN values: NaN (Not a Number) or null values are a common occurrence in datasets and can cause issues with data analysis if not handled properly. We used below mnetioned techniques to handle null values in our data set.\n",
    "   - Median imputation\n",
    "   - Linear regression imputation:\n",
    "      - Dummy Encoding\n",
    "      - Linear model implementation\n",
    "\n",
    "d) Feature Engineering - Binning: Binning is a common technique used in feature engineering to transform a continuous variable into a categorical variable by grouping values into bins or intervals."
   ]
  },
  {
   "cell_type": "markdown",
   "id": "441bb78a",
   "metadata": {},
   "source": [
    "## 2a) Handling Outliers\n",
    "Here features 'person_age' and 'person_emp_length' have some outlier values which we can visualize using boxplot."
   ]
  },
  {
   "cell_type": "markdown",
   "id": "d85525d1",
   "metadata": {},
   "source": [
    "- Box plot of Age vs Loan Status shows there are a few persons > 100 years of age. These can be considered as outliers as there is very less probability that they will take a new loan in the future. So, we will remove these records where person age > 100"
   ]
  },
  {
   "cell_type": "code",
   "execution_count": 4,
   "id": "0f202fee",
   "metadata": {
    "scrolled": false
   },
   "outputs": [
    {
     "data": {
      "text/plain": [
       "Text(0.5, 1.0, 'Box plot of Person Age vs Loan Status')"
      ]
     },
     "execution_count": 4,
     "metadata": {},
     "output_type": "execute_result"
    },
    {
     "data": {
      "image/png": "[encoded data removed]",
      "text/plain": [
       "<Figure size 640x480 with 1 Axes>"
      ]
     },
     "metadata": {},
     "output_type": "display_data"
    }
   ],
   "source": [
    "sns.boxplot(y=\"person_age\", x=\"loan_status\", data=df)\n",
    "plt.title(\"Box plot of Person Age vs Loan Status\")\n",
    "\n",
    "# The points mentioned in the heading of boxplot mean the cordinates of position the title or caption within the visualization.\n",
    "# he x-coordinate 0.5 would represent the horizontal midpoint of the graph, \n",
    "#while the y-coordinate 1.0 would represent the top of the graph."
   ]
  },
  {
   "cell_type": "code",
   "execution_count": 5,
   "id": "d3839a36",
   "metadata": {},
   "outputs": [
    {
     "data": {
      "text/html": [
       "<div>\n",
       "<style scoped>\n",
       "    .dataframe tbody tr th:only-of-type {\n",
       "        vertical-align: middle;\n",
       "    }\n",
       "\n",
       "    .dataframe tbody tr th {\n",
       "        vertical-align: top;\n",
       "    }\n",
       "\n",
       "    .dataframe thead th {\n",
       "        text-align: right;\n",
       "    }\n",
       "</style>\n",
       "<table border=\"1\" class=\"dataframe\">\n",
       "  <thead>\n",
       "    <tr style=\"text-align: right;\">\n",
       "      <th></th>\n",
       "      <th>person_age</th>\n",
       "      <th>person_income</th>\n",
       "      <th>person_home_ownership</th>\n",
       "      <th>person_emp_length</th>\n",
       "      <th>loan_intent</th>\n",
       "      <th>loan_grade</th>\n",
       "      <th>loan_amnt</th>\n",
       "      <th>loan_int_rate</th>\n",
       "      <th>loan_status</th>\n",
       "      <th>loan_percent_income</th>\n",
       "      <th>cb_person_default_on_file</th>\n",
       "      <th>cb_person_cred_hist_length</th>\n",
       "    </tr>\n",
       "  </thead>\n",
       "  <tbody>\n",
       "    <tr>\n",
       "      <th>81</th>\n",
       "      <td>144</td>\n",
       "      <td>250000</td>\n",
       "      <td>RENT</td>\n",
       "      <td>4.0</td>\n",
       "      <td>VENTURE</td>\n",
       "      <td>C</td>\n",
       "      <td>4800</td>\n",
       "      <td>13.57</td>\n",
       "      <td>0</td>\n",
       "      <td>0.02</td>\n",
       "      <td>N</td>\n",
       "      <td>3</td>\n",
       "    </tr>\n",
       "    <tr>\n",
       "      <th>183</th>\n",
       "      <td>144</td>\n",
       "      <td>200000</td>\n",
       "      <td>MORTGAGE</td>\n",
       "      <td>4.0</td>\n",
       "      <td>EDUCATION</td>\n",
       "      <td>B</td>\n",
       "      <td>6000</td>\n",
       "      <td>11.86</td>\n",
       "      <td>0</td>\n",
       "      <td>0.03</td>\n",
       "      <td>N</td>\n",
       "      <td>2</td>\n",
       "    </tr>\n",
       "    <tr>\n",
       "      <th>575</th>\n",
       "      <td>123</td>\n",
       "      <td>80004</td>\n",
       "      <td>RENT</td>\n",
       "      <td>2.0</td>\n",
       "      <td>EDUCATION</td>\n",
       "      <td>B</td>\n",
       "      <td>20400</td>\n",
       "      <td>10.25</td>\n",
       "      <td>0</td>\n",
       "      <td>0.25</td>\n",
       "      <td>N</td>\n",
       "      <td>3</td>\n",
       "    </tr>\n",
       "    <tr>\n",
       "      <th>747</th>\n",
       "      <td>123</td>\n",
       "      <td>78000</td>\n",
       "      <td>RENT</td>\n",
       "      <td>7.0</td>\n",
       "      <td>VENTURE</td>\n",
       "      <td>B</td>\n",
       "      <td>20000</td>\n",
       "      <td>NaN</td>\n",
       "      <td>0</td>\n",
       "      <td>0.26</td>\n",
       "      <td>N</td>\n",
       "      <td>4</td>\n",
       "    </tr>\n",
       "    <tr>\n",
       "      <th>32297</th>\n",
       "      <td>144</td>\n",
       "      <td>6000000</td>\n",
       "      <td>MORTGAGE</td>\n",
       "      <td>12.0</td>\n",
       "      <td>PERSONAL</td>\n",
       "      <td>C</td>\n",
       "      <td>5000</td>\n",
       "      <td>12.73</td>\n",
       "      <td>0</td>\n",
       "      <td>0.00</td>\n",
       "      <td>N</td>\n",
       "      <td>25</td>\n",
       "    </tr>\n",
       "  </tbody>\n",
       "</table>\n",
       "</div>"
      ],
      "text/plain": [
       "       person_age  person_income person_home_ownership  person_emp_length  \\\n",
       "81            144         250000                  RENT                4.0   \n",
       "183           144         200000              MORTGAGE                4.0   \n",
       "575           123          80004                  RENT                2.0   \n",
       "747           123          78000                  RENT                7.0   \n",
       "32297         144        6000000              MORTGAGE               12.0   \n",
       "\n",
       "      loan_intent loan_grade  loan_amnt  loan_int_rate  loan_status  \\\n",
       "81        VENTURE          C       4800          13.57            0   \n",
       "183     EDUCATION          B       6000          11.86            0   \n",
       "575     EDUCATION          B      20400          10.25            0   \n",
       "747       VENTURE          B      20000            NaN            0   \n",
       "32297    PERSONAL          C       5000          12.73            0   \n",
       "\n",
       "       loan_percent_income cb_person_default_on_file  \\\n",
       "81                    0.02                         N   \n",
       "183                   0.03                         N   \n",
       "575                   0.25                         N   \n",
       "747                   0.26                         N   \n",
       "32297                 0.00                         N   \n",
       "\n",
       "       cb_person_cred_hist_length  \n",
       "81                              3  \n",
       "183                             2  \n",
       "575                             3  \n",
       "747                             4  \n",
       "32297                          25  "
      ]
     },
     "execution_count": 5,
     "metadata": {},
     "output_type": "execute_result"
    }
   ],
   "source": [
    "df[df['person_age']> 100]\n",
    "#The code df['person_age'] > 100 creates a Boolean (True/False) Series that has the same length as the 'person_age' column of df. \n",
    "# Each element in this Series is True if the corresponding age in the 'person_age' column is greater than 100, and False otherwise.\n",
    "#The code df[df['person_age'] > 100] filters the DataFrame to include only the rows where the condition 'person_age' > 100 is True. "
   ]
  },
  {
   "cell_type": "code",
   "execution_count": 6,
   "id": "9d852215",
   "metadata": {},
   "outputs": [
    {
     "data": {
      "text/plain": [
       "(32581, 12)"
      ]
     },
     "execution_count": 6,
     "metadata": {},
     "output_type": "execute_result"
    }
   ],
   "source": [
    "df.shape\n",
    "# Total number of rows and columns in original dataset"
   ]
  },
  {
   "cell_type": "code",
   "execution_count": 7,
   "id": "5bdfb337",
   "metadata": {},
   "outputs": [],
   "source": [
    "df = df[df['person_age']<=100]"
   ]
  },
  {
   "cell_type": "code",
   "execution_count": 8,
   "id": "84cc96f0",
   "metadata": {},
   "outputs": [
    {
     "data": {
      "text/plain": [
       "(32576, 12)"
      ]
     },
     "execution_count": 8,
     "metadata": {},
     "output_type": "execute_result"
    }
   ],
   "source": [
    "df.shape\n",
    "# 5 rows with outliers were excluded from dataset"
   ]
  },
  {
   "cell_type": "markdown",
   "id": "67e73ec0",
   "metadata": {},
   "source": [
    "- Box plot of Employment Length vs Loan Status shows there are a few persons > 60 years of experience. These can be considered as outliers as there is very less probability that they will take a new loan in the future. So, we will remove these records where Employment Length > 60"
   ]
  },
  {
   "cell_type": "code",
   "execution_count": 9,
   "id": "addb4471",
   "metadata": {},
   "outputs": [
    {
     "data": {
      "text/plain": [
       "Text(0.5, 1.0, 'Box plot of Employment Length vs Loan Status')"
      ]
     },
     "execution_count": 9,
     "metadata": {},
     "output_type": "execute_result"
    },
    {
     "data": {
      "image/png": "[encoded data removed]",
      "text/plain": [
       "<Figure size 640x480 with 1 Axes>"
      ]
     },
     "metadata": {},
     "output_type": "display_data"
    }
   ],
   "source": [
    "sns.boxplot(y=\"person_emp_length\", x=\"loan_status\", data=df)\n",
    "plt.title(\"Box plot of Employment Length vs Loan Status\")"
   ]
  },
  {
   "cell_type": "code",
   "execution_count": 10,
   "id": "8e05d4e0",
   "metadata": {},
   "outputs": [
    {
     "data": {
      "text/html": [
       "<div>\n",
       "<style scoped>\n",
       "    .dataframe tbody tr th:only-of-type {\n",
       "        vertical-align: middle;\n",
       "    }\n",
       "\n",
       "    .dataframe tbody tr th {\n",
       "        vertical-align: top;\n",
       "    }\n",
       "\n",
       "    .dataframe thead th {\n",
       "        text-align: right;\n",
       "    }\n",
       "</style>\n",
       "<table border=\"1\" class=\"dataframe\">\n",
       "  <thead>\n",
       "    <tr style=\"text-align: right;\">\n",
       "      <th></th>\n",
       "      <th>person_age</th>\n",
       "      <th>person_income</th>\n",
       "      <th>person_home_ownership</th>\n",
       "      <th>person_emp_length</th>\n",
       "      <th>loan_intent</th>\n",
       "      <th>loan_grade</th>\n",
       "      <th>loan_amnt</th>\n",
       "      <th>loan_int_rate</th>\n",
       "      <th>loan_status</th>\n",
       "      <th>loan_percent_income</th>\n",
       "      <th>cb_person_default_on_file</th>\n",
       "      <th>cb_person_cred_hist_length</th>\n",
       "    </tr>\n",
       "  </thead>\n",
       "  <tbody>\n",
       "    <tr>\n",
       "      <th>0</th>\n",
       "      <td>22</td>\n",
       "      <td>59000</td>\n",
       "      <td>RENT</td>\n",
       "      <td>123.0</td>\n",
       "      <td>PERSONAL</td>\n",
       "      <td>D</td>\n",
       "      <td>35000</td>\n",
       "      <td>16.02</td>\n",
       "      <td>1</td>\n",
       "      <td>0.59</td>\n",
       "      <td>Y</td>\n",
       "      <td>3</td>\n",
       "    </tr>\n",
       "    <tr>\n",
       "      <th>210</th>\n",
       "      <td>21</td>\n",
       "      <td>192000</td>\n",
       "      <td>MORTGAGE</td>\n",
       "      <td>123.0</td>\n",
       "      <td>VENTURE</td>\n",
       "      <td>A</td>\n",
       "      <td>20000</td>\n",
       "      <td>6.54</td>\n",
       "      <td>0</td>\n",
       "      <td>0.10</td>\n",
       "      <td>N</td>\n",
       "      <td>4</td>\n",
       "    </tr>\n",
       "  </tbody>\n",
       "</table>\n",
       "</div>"
      ],
      "text/plain": [
       "     person_age  person_income person_home_ownership  person_emp_length  \\\n",
       "0            22          59000                  RENT              123.0   \n",
       "210          21         192000              MORTGAGE              123.0   \n",
       "\n",
       "    loan_intent loan_grade  loan_amnt  loan_int_rate  loan_status  \\\n",
       "0      PERSONAL          D      35000          16.02            1   \n",
       "210     VENTURE          A      20000           6.54            0   \n",
       "\n",
       "     loan_percent_income cb_person_default_on_file  cb_person_cred_hist_length  \n",
       "0                   0.59                         Y                           3  \n",
       "210                 0.10                         N                           4  "
      ]
     },
     "execution_count": 10,
     "metadata": {},
     "output_type": "execute_result"
    }
   ],
   "source": [
    "df[df['person_emp_length']> 60]"
   ]
  },
  {
   "cell_type": "code",
   "execution_count": 11,
   "id": "82749c84",
   "metadata": {},
   "outputs": [],
   "source": [
    "df = df[df['person_emp_length']!= 123]"
   ]
  },
  {
   "cell_type": "code",
   "execution_count": 12,
   "id": "c92be53c",
   "metadata": {},
   "outputs": [
    {
     "data": {
      "text/plain": [
       "(32574, 12)"
      ]
     },
     "execution_count": 12,
     "metadata": {},
     "output_type": "execute_result"
    }
   ],
   "source": [
    "df.shape"
   ]
  },
  {
   "cell_type": "markdown",
   "id": "c1a8e946",
   "metadata": {},
   "source": [
    "## 2b) Exploratory Data Analysis\n",
    "- We have performed EDA to get a deeper understanding of our credit risk dataset\n",
    "- EDA is an initial investigation using visualizations and plots that will help us discovers patterns in data, find actionable insights\n",
    "- We have started with plotting the distribution for the target feature in our dataset\n",
    "- Then we have done visualizations on categorical features in the dataset\n",
    "- Finally, we have plotted the correlation plots for numerical features in the dataset"
   ]
  },
  {
   "cell_type": "markdown",
   "id": "d29664b4",
   "metadata": {},
   "source": [
    "### The below plot shows the frequency distribution of Loan Status (0 = Non Default, 1 = Default) which is the traget variable in our dataset"
   ]
  },
  {
   "cell_type": "code",
   "execution_count": 13,
   "id": "cc0587eb",
   "metadata": {},
   "outputs": [
    {
     "data": {
      "text/plain": [
       "Text(0.5, 1.0, 'Plot of Total Customers vs Loan Status')"
      ]
     },
     "execution_count": 13,
     "metadata": {},
     "output_type": "execute_result"
    },
    {
     "data": {
      "image/png": "[encoded data removed]",
      "text/plain": [
       "<Figure size 800x600 with 1 Axes>"
      ]
     },
     "metadata": {},
     "output_type": "display_data"
    }
   ],
   "source": [
    "plt.figure(figsize=(8,6))\n",
    "sns.countplot(x='loan_status', data=df)\n",
    "#plt.xticks(rotation=90)\n",
    "plt.xlabel('Loan Status')\n",
    "plt.ylabel('Number of Customers')\n",
    "plt.title(\"Plot of Total Customers vs Loan Status\")"
   ]
  },
  {
   "cell_type": "markdown",
   "id": "5fe08b2b",
   "metadata": {},
   "source": [
    "### Below plot shows home ownership status:\n",
    "- Most of the customers in the dataset have home ownership status of either Rent or Mortgage\n",
    "- Based on the plot, we can see that majority of customers who are defaulting on their loan have the home ownership status as rent"
   ]
  },
  {
   "cell_type": "code",
   "execution_count": 14,
   "id": "e7acd063",
   "metadata": {},
   "outputs": [
    {
     "data": {
      "image/png": "[encoded data removed]",
      "text/plain": [
       "<Figure size 800x600 with 1 Axes>"
      ]
     },
     "metadata": {},
     "output_type": "display_data"
    }
   ],
   "source": [
    "plt.figure(figsize=(8,6))\n",
    "cnt_plt = sns.countplot(x='person_home_ownership', data=df, hue = 'loan_status')\n",
    "#plt.xticks(rotation=90)\n",
    "plt.xlabel('Home Ownership')\n",
    "plt.ylabel('Number of Customers')\n",
    "plt.title(\"Plot of Total Customers vs Home Ownership Status\")\n",
    "for container in cnt_plt.containers:\n",
    "    cnt_plt.bar_label(container)"
   ]
  },
  {
   "cell_type": "markdown",
   "id": "4ea0e421",
   "metadata": {},
   "source": [
    "### Below plot shows Loan Intent:\n",
    "- Majority of the customers in the dataset have taken a loan for education purpose \n",
    "- Based on the plot, we can see that majority of customers who are defaulting on their loan have taken a loan for medical purpose\n",
    "- Least number of defaulters are the ones who have taken loan for venture"
   ]
  },
  {
   "cell_type": "code",
   "execution_count": 15,
   "id": "1dbb6364",
   "metadata": {},
   "outputs": [
    {
     "data": {
      "image/png": "[encoded data removed]",
      "text/plain": [
       "<Figure size 800x600 with 1 Axes>"
      ]
     },
     "metadata": {},
     "output_type": "display_data"
    }
   ],
   "source": [
    "plt.figure(figsize=(8,6))\n",
    "cnt_plt = sns.countplot(x='loan_intent', data=df, hue = 'loan_status')\n",
    "plt.xticks(rotation=90)\n",
    "plt.xlabel('Loan Intent')\n",
    "plt.ylabel('Number of Customers')\n",
    "plt.title(\"Plot of Total Customers vs Loan Intent\")\n",
    "for container in cnt_plt.containers:\n",
    "    cnt_plt.bar_label(container)"
   ]
  },
  {
   "cell_type": "markdown",
   "id": "520aff47",
   "metadata": {},
   "source": [
    "### Below plot shows Loan Grade:\n",
    "- Loan grade is calcuated based on a customers credit history. Grade A equals to a good credit history and Grade G is vice versa\n",
    "- Below Scatterplot shows that the customers with Loan Grade = A are offered a loan at lowest interest rate\n",
    "- We can also see that customers who are offred a loan at a higher interest rate tend to default on their loans majority of the times"
   ]
  },
  {
   "cell_type": "code",
   "execution_count": 16,
   "id": "a1009738",
   "metadata": {},
   "outputs": [
    {
     "data": {
      "text/plain": [
       "Text(0.5, 1.0, 'Plot of Loan Interest Rate vs Loan Grade')"
      ]
     },
     "execution_count": 16,
     "metadata": {},
     "output_type": "execute_result"
    },
    {
     "data": {
      "image/png": "[encoded data removed]",
      "text/plain": [
       "<Figure size 640x480 with 1 Axes>"
      ]
     },
     "metadata": {},
     "output_type": "display_data"
    }
   ],
   "source": [
    "sns.scatterplot(x=\"loan_grade\",\n",
    "                    y=\"loan_int_rate\",hue=\"loan_status\",\n",
    "                    data=df)\n",
    "plt.xlabel('Loan Grade')\n",
    "plt.ylabel('Loan Interest Rate')\n",
    "plt.title(\"Plot of Loan Interest Rate vs Loan Grade\")"
   ]
  },
  {
   "cell_type": "code",
   "execution_count": 17,
   "id": "6ee1ce3d",
   "metadata": {},
   "outputs": [
    {
     "data": {
      "image/png": "[encoded data removed]",
      "text/plain": [
       "<Figure size 800x600 with 1 Axes>"
      ]
     },
     "metadata": {},
     "output_type": "display_data"
    }
   ],
   "source": [
    "plt.figure(figsize=(8,6))\n",
    "cnt_plt=sns.countplot(x='loan_grade', data=df, hue = 'loan_status')\n",
    "#plt.xticks(rotation=90)\n",
    "plt.xlabel('Loan Grade')\n",
    "plt.ylabel('Number of Customers')\n",
    "plt.title(\"Plot of Total Customers vs Loan Grade\")\n",
    "for container in cnt_plt.containers:\n",
    "    cnt_plt.bar_label(container)"
   ]
  },
  {
   "cell_type": "markdown",
   "id": "b080d575",
   "metadata": {},
   "source": [
    "### Below plot shows person_default_on_file:\n",
    "- In our dataset, there are around 5700 customers who have defaulted in the past\n",
    "- Out of those, we can see that 2171 customers have again defaulted when they were provided with a loan"
   ]
  },
  {
   "cell_type": "code",
   "execution_count": 18,
   "id": "30f03693",
   "metadata": {},
   "outputs": [
    {
     "data": {
      "image/png": "[encoded data removed]",
      "text/plain": [
       "<Figure size 800x600 with 1 Axes>"
      ]
     },
     "metadata": {},
     "output_type": "display_data"
    }
   ],
   "source": [
    "plt.figure(figsize=(8,6))\n",
    "cnt_plt = sns.countplot(x='cb_person_default_on_file', data=df, hue = 'loan_status')\n",
    "#plt.xticks(rotation=90)\n",
    "plt.xlabel('Person Default on File')\n",
    "plt.ylabel('Number of Customers')\n",
    "plt.title(\"Plot of Total Customers vs Customers Default on File\")\n",
    "for container in cnt_plt.containers:\n",
    "    cnt_plt.bar_label(container)"
   ]
  },
  {
   "cell_type": "markdown",
   "id": "2fad551f",
   "metadata": {},
   "source": [
    "### Correlation Heatmap\n",
    "- Covariance explains relationship between features / variables\n",
    "- Correlation explains how strong that relationship is. Range (-1,1). Closer to -1 or 1 means stronger correlation. It can be postive or negative (inc in one leads to dec in other)\n",
    "- We have plotted the correlation plot for all the numerical features in our dataset\n",
    "- For example: loan_int rate seems to be positively correlated with loan status\n",
    "- Person age is strongly positively correlated with person credit hostory length"
   ]
  },
  {
   "cell_type": "code",
   "execution_count": 19,
   "id": "fd2a808b",
   "metadata": {},
   "outputs": [
    {
     "data": {
      "text/plain": [
       "<AxesSubplot:title={'center':'Correlation Matrix'}>"
      ]
     },
     "execution_count": 19,
     "metadata": {},
     "output_type": "execute_result"
    },
    {
     "data": {
      "image/png": "[encoded data removed]",
      "text/plain": [
       "<Figure size 2000x1000 with 2 Axes>"
      ]
     },
     "metadata": {},
     "output_type": "display_data"
    }
   ],
   "source": [
    "plt.figure(figsize=(20,10))\n",
    "plt.title(\"Correlation Matrix\")\n",
    "sns.heatmap(df.corr(),annot=True)"
   ]
  },
  {
   "cell_type": "code",
   "execution_count": 20,
   "id": "65b753dc",
   "metadata": {},
   "outputs": [
    {
     "data": {
      "text/plain": [
       "<AxesSubplot:>"
      ]
     },
     "execution_count": 20,
     "metadata": {},
     "output_type": "execute_result"
    },
    {
     "data": {
      "image/png": "[encoded data removed]",
      "text/plain": [
       "<Figure size 2000x1000 with 2 Axes>"
      ]
     },
     "metadata": {},
     "output_type": "display_data"
    }
   ],
   "source": [
    "plt.figure(figsize=(20,10))\n",
    "sns.heatmap(df.corr()[abs(df.corr())>.5],annot=True)"
   ]
  },
  {
   "cell_type": "code",
   "execution_count": 21,
   "id": "d5e0680e",
   "metadata": {},
   "outputs": [
    {
     "data": {
      "text/html": [
       "<div>\n",
       "<style scoped>\n",
       "    .dataframe tbody tr th:only-of-type {\n",
       "        vertical-align: middle;\n",
       "    }\n",
       "\n",
       "    .dataframe tbody tr th {\n",
       "        vertical-align: top;\n",
       "    }\n",
       "\n",
       "    .dataframe thead th {\n",
       "        text-align: right;\n",
       "    }\n",
       "</style>\n",
       "<table border=\"1\" class=\"dataframe\">\n",
       "  <thead>\n",
       "    <tr style=\"text-align: right;\">\n",
       "      <th></th>\n",
       "      <th>person_age</th>\n",
       "      <th>person_income</th>\n",
       "      <th>person_home_ownership</th>\n",
       "      <th>person_emp_length</th>\n",
       "      <th>loan_intent</th>\n",
       "      <th>loan_grade</th>\n",
       "      <th>loan_amnt</th>\n",
       "      <th>loan_int_rate</th>\n",
       "      <th>loan_status</th>\n",
       "      <th>loan_percent_income</th>\n",
       "      <th>cb_person_default_on_file</th>\n",
       "      <th>cb_person_cred_hist_length</th>\n",
       "    </tr>\n",
       "  </thead>\n",
       "  <tbody>\n",
       "    <tr>\n",
       "      <th>1</th>\n",
       "      <td>21</td>\n",
       "      <td>9600</td>\n",
       "      <td>OWN</td>\n",
       "      <td>5.0</td>\n",
       "      <td>EDUCATION</td>\n",
       "      <td>B</td>\n",
       "      <td>1000</td>\n",
       "      <td>11.14</td>\n",
       "      <td>0</td>\n",
       "      <td>0.10</td>\n",
       "      <td>N</td>\n",
       "      <td>2</td>\n",
       "    </tr>\n",
       "    <tr>\n",
       "      <th>2</th>\n",
       "      <td>25</td>\n",
       "      <td>9600</td>\n",
       "      <td>MORTGAGE</td>\n",
       "      <td>1.0</td>\n",
       "      <td>MEDICAL</td>\n",
       "      <td>C</td>\n",
       "      <td>5500</td>\n",
       "      <td>12.87</td>\n",
       "      <td>1</td>\n",
       "      <td>0.57</td>\n",
       "      <td>N</td>\n",
       "      <td>3</td>\n",
       "    </tr>\n",
       "    <tr>\n",
       "      <th>3</th>\n",
       "      <td>23</td>\n",
       "      <td>65500</td>\n",
       "      <td>RENT</td>\n",
       "      <td>4.0</td>\n",
       "      <td>MEDICAL</td>\n",
       "      <td>C</td>\n",
       "      <td>35000</td>\n",
       "      <td>15.23</td>\n",
       "      <td>1</td>\n",
       "      <td>0.53</td>\n",
       "      <td>N</td>\n",
       "      <td>2</td>\n",
       "    </tr>\n",
       "    <tr>\n",
       "      <th>4</th>\n",
       "      <td>24</td>\n",
       "      <td>54400</td>\n",
       "      <td>RENT</td>\n",
       "      <td>8.0</td>\n",
       "      <td>MEDICAL</td>\n",
       "      <td>C</td>\n",
       "      <td>35000</td>\n",
       "      <td>14.27</td>\n",
       "      <td>1</td>\n",
       "      <td>0.55</td>\n",
       "      <td>Y</td>\n",
       "      <td>4</td>\n",
       "    </tr>\n",
       "    <tr>\n",
       "      <th>5</th>\n",
       "      <td>21</td>\n",
       "      <td>9900</td>\n",
       "      <td>OWN</td>\n",
       "      <td>2.0</td>\n",
       "      <td>VENTURE</td>\n",
       "      <td>A</td>\n",
       "      <td>2500</td>\n",
       "      <td>7.14</td>\n",
       "      <td>1</td>\n",
       "      <td>0.25</td>\n",
       "      <td>N</td>\n",
       "      <td>2</td>\n",
       "    </tr>\n",
       "    <tr>\n",
       "      <th>6</th>\n",
       "      <td>26</td>\n",
       "      <td>77100</td>\n",
       "      <td>RENT</td>\n",
       "      <td>8.0</td>\n",
       "      <td>EDUCATION</td>\n",
       "      <td>B</td>\n",
       "      <td>35000</td>\n",
       "      <td>12.42</td>\n",
       "      <td>1</td>\n",
       "      <td>0.45</td>\n",
       "      <td>N</td>\n",
       "      <td>3</td>\n",
       "    </tr>\n",
       "    <tr>\n",
       "      <th>7</th>\n",
       "      <td>24</td>\n",
       "      <td>78956</td>\n",
       "      <td>RENT</td>\n",
       "      <td>5.0</td>\n",
       "      <td>MEDICAL</td>\n",
       "      <td>B</td>\n",
       "      <td>35000</td>\n",
       "      <td>11.11</td>\n",
       "      <td>1</td>\n",
       "      <td>0.44</td>\n",
       "      <td>N</td>\n",
       "      <td>4</td>\n",
       "    </tr>\n",
       "    <tr>\n",
       "      <th>8</th>\n",
       "      <td>24</td>\n",
       "      <td>83000</td>\n",
       "      <td>RENT</td>\n",
       "      <td>8.0</td>\n",
       "      <td>PERSONAL</td>\n",
       "      <td>A</td>\n",
       "      <td>35000</td>\n",
       "      <td>8.90</td>\n",
       "      <td>1</td>\n",
       "      <td>0.42</td>\n",
       "      <td>N</td>\n",
       "      <td>2</td>\n",
       "    </tr>\n",
       "    <tr>\n",
       "      <th>9</th>\n",
       "      <td>21</td>\n",
       "      <td>10000</td>\n",
       "      <td>OWN</td>\n",
       "      <td>6.0</td>\n",
       "      <td>VENTURE</td>\n",
       "      <td>D</td>\n",
       "      <td>1600</td>\n",
       "      <td>14.74</td>\n",
       "      <td>1</td>\n",
       "      <td>0.16</td>\n",
       "      <td>N</td>\n",
       "      <td>3</td>\n",
       "    </tr>\n",
       "    <tr>\n",
       "      <th>10</th>\n",
       "      <td>22</td>\n",
       "      <td>85000</td>\n",
       "      <td>RENT</td>\n",
       "      <td>6.0</td>\n",
       "      <td>VENTURE</td>\n",
       "      <td>B</td>\n",
       "      <td>35000</td>\n",
       "      <td>10.37</td>\n",
       "      <td>1</td>\n",
       "      <td>0.41</td>\n",
       "      <td>N</td>\n",
       "      <td>4</td>\n",
       "    </tr>\n",
       "  </tbody>\n",
       "</table>\n",
       "</div>"
      ],
      "text/plain": [
       "    person_age  person_income person_home_ownership  person_emp_length  \\\n",
       "1           21           9600                   OWN                5.0   \n",
       "2           25           9600              MORTGAGE                1.0   \n",
       "3           23          65500                  RENT                4.0   \n",
       "4           24          54400                  RENT                8.0   \n",
       "5           21           9900                   OWN                2.0   \n",
       "6           26          77100                  RENT                8.0   \n",
       "7           24          78956                  RENT                5.0   \n",
       "8           24          83000                  RENT                8.0   \n",
       "9           21          10000                   OWN                6.0   \n",
       "10          22          85000                  RENT                6.0   \n",
       "\n",
       "   loan_intent loan_grade  loan_amnt  loan_int_rate  loan_status  \\\n",
       "1    EDUCATION          B       1000          11.14            0   \n",
       "2      MEDICAL          C       5500          12.87            1   \n",
       "3      MEDICAL          C      35000          15.23            1   \n",
       "4      MEDICAL          C      35000          14.27            1   \n",
       "5      VENTURE          A       2500           7.14            1   \n",
       "6    EDUCATION          B      35000          12.42            1   \n",
       "7      MEDICAL          B      35000          11.11            1   \n",
       "8     PERSONAL          A      35000           8.90            1   \n",
       "9      VENTURE          D       1600          14.74            1   \n",
       "10     VENTURE          B      35000          10.37            1   \n",
       "\n",
       "    loan_percent_income cb_person_default_on_file  cb_person_cred_hist_length  \n",
       "1                  0.10                         N                           2  \n",
       "2                  0.57                         N                           3  \n",
       "3                  0.53                         N                           2  \n",
       "4                  0.55                         Y                           4  \n",
       "5                  0.25                         N                           2  \n",
       "6                  0.45                         N                           3  \n",
       "7                  0.44                         N                           4  \n",
       "8                  0.42                         N                           2  \n",
       "9                  0.16                         N                           3  \n",
       "10                 0.41                         N                           4  "
      ]
     },
     "execution_count": 21,
     "metadata": {},
     "output_type": "execute_result"
    }
   ],
   "source": [
    "df.head(10)"
   ]
  },
  {
   "cell_type": "markdown",
   "id": "c7cc24f1",
   "metadata": {},
   "source": [
    "## 2c) Handling Null Values "
   ]
  },
  {
   "cell_type": "code",
   "execution_count": 22,
   "id": "2f6555e4",
   "metadata": {
    "scrolled": true
   },
   "outputs": [
    {
     "data": {
      "text/plain": [
       "person_age                       0\n",
       "person_income                    0\n",
       "person_home_ownership            0\n",
       "person_emp_length              895\n",
       "loan_intent                      0\n",
       "loan_grade                       0\n",
       "loan_amnt                        0\n",
       "loan_int_rate                 3115\n",
       "loan_status                      0\n",
       "loan_percent_income              0\n",
       "cb_person_default_on_file        0\n",
       "cb_person_cred_hist_length       0\n",
       "dtype: int64"
      ]
     },
     "execution_count": 22,
     "metadata": {},
     "output_type": "execute_result"
    }
   ],
   "source": [
    "# This will give the sum of null for each columns\n",
    "df.isnull().sum()"
   ]
  },
  {
   "cell_type": "markdown",
   "id": "1ead9e08",
   "metadata": {},
   "source": [
    "### Imputing Null Values\n",
    "- For, loan_int_rate, we have imputed with the median of loan_int_rate by grouping them by the loan grade\n",
    "- For, person employment length, we have used linear regression model to impute the missing values"
   ]
  },
  {
   "cell_type": "markdown",
   "id": "8dc2e065",
   "metadata": {},
   "source": [
    "### Column : Loan_int_rate - Handling Null using the median\n",
    "- To handle to null values in loan_int, we are taking median value of loan_int_rate by grouping them by the loan_grade"
   ]
  },
  {
   "cell_type": "code",
   "execution_count": 23,
   "id": "0aba9ebc",
   "metadata": {
    "scrolled": true
   },
   "outputs": [
    {
     "data": {
      "text/plain": [
       "10.99"
      ]
     },
     "execution_count": 23,
     "metadata": {},
     "output_type": "execute_result"
    }
   ],
   "source": [
    "df['loan_int_rate'].median()"
   ]
  },
  {
   "cell_type": "code",
   "execution_count": 24,
   "id": "54c8127b",
   "metadata": {
    "scrolled": true
   },
   "outputs": [
    {
     "data": {
      "text/plain": [
       "loan_grade\n",
       "A     7.490\n",
       "B    10.990\n",
       "C    13.480\n",
       "D    15.310\n",
       "E    16.820\n",
       "F    18.535\n",
       "G    20.160\n",
       "Name: loan_int_rate, dtype: float64"
      ]
     },
     "execution_count": 24,
     "metadata": {},
     "output_type": "execute_result"
    }
   ],
   "source": [
    "#Here we are creating groups for each category of loan grade and taking median of each group\n",
    "df.groupby('loan_grade')['loan_int_rate'].median()"
   ]
  },
  {
   "cell_type": "code",
   "execution_count": 25,
   "id": "aee6de29",
   "metadata": {},
   "outputs": [],
   "source": [
    "# This will assign median values of each grade to missing values. inplace=true will make changes to same dataframe.\n",
    "df['loan_int_rate'].fillna( df.groupby('loan_grade')['loan_int_rate'].transform('median'),inplace=True)  "
   ]
  },
  {
   "cell_type": "code",
   "execution_count": 26,
   "id": "29030183",
   "metadata": {
    "scrolled": true
   },
   "outputs": [
    {
     "data": {
      "text/plain": [
       "person_age                      0\n",
       "person_income                   0\n",
       "person_home_ownership           0\n",
       "person_emp_length             895\n",
       "loan_intent                     0\n",
       "loan_grade                      0\n",
       "loan_amnt                       0\n",
       "loan_int_rate                   0\n",
       "loan_status                     0\n",
       "loan_percent_income             0\n",
       "cb_person_default_on_file       0\n",
       "cb_person_cred_hist_length      0\n",
       "dtype: int64"
      ]
     },
     "execution_count": 26,
     "metadata": {},
     "output_type": "execute_result"
    }
   ],
   "source": [
    "df.isnull().sum()"
   ]
  },
  {
   "cell_type": "markdown",
   "id": "712bb1f0",
   "metadata": {},
   "source": [
    "### Column : person_emp_length - Handling Null using linear regression model\n",
    "- Dummy Encoding or One hot Encoding\n",
    "- Linear regression model"
   ]
  },
  {
   "cell_type": "markdown",
   "id": "b331ceea",
   "metadata": {},
   "source": [
    "### Dummy Encoding or One hot Encoding \n",
    "- As linear model cannot read categorical features, we are performing this step."
   ]
  },
  {
   "cell_type": "code",
   "execution_count": 27,
   "id": "b16eb9ee",
   "metadata": {},
   "outputs": [
    {
     "data": {
      "text/plain": [
       "person_age                      int64\n",
       "person_income                   int64\n",
       "person_home_ownership          object\n",
       "person_emp_length             float64\n",
       "loan_intent                    object\n",
       "loan_grade                     object\n",
       "loan_amnt                       int64\n",
       "loan_int_rate                 float64\n",
       "loan_status                     int64\n",
       "loan_percent_income           float64\n",
       "cb_person_default_on_file      object\n",
       "cb_person_cred_hist_length      int64\n",
       "dtype: object"
      ]
     },
     "execution_count": 27,
     "metadata": {},
     "output_type": "execute_result"
    }
   ],
   "source": [
    "df.dtypes"
   ]
  },
  {
   "cell_type": "code",
   "execution_count": 28,
   "id": "be526207",
   "metadata": {},
   "outputs": [],
   "source": [
    "categorical_columns = df.select_dtypes(['object']).columns"
   ]
  },
  {
   "cell_type": "code",
   "execution_count": 29,
   "id": "12ca8bbf",
   "metadata": {},
   "outputs": [
    {
     "data": {
      "text/plain": [
       "Index(['person_home_ownership', 'loan_intent', 'loan_grade',\n",
       "       'cb_person_default_on_file'],\n",
       "      dtype='object')"
      ]
     },
     "execution_count": 29,
     "metadata": {},
     "output_type": "execute_result"
    }
   ],
   "source": [
    "categorical_columns"
   ]
  },
  {
   "cell_type": "code",
   "execution_count": 30,
   "id": "967449bf",
   "metadata": {},
   "outputs": [],
   "source": [
    "# pd.get_dummies is a method to convert categorical variable to numerical variables, \n",
    "#drop_first=True means first column for each categorical variable will get dropped.\n",
    "# And we drop first column to avoid redundancy\n",
    "df = pd.get_dummies(df, columns = categorical_columns, drop_first=True)"
   ]
  },
  {
   "cell_type": "code",
   "execution_count": 31,
   "id": "62da6595",
   "metadata": {},
   "outputs": [
    {
     "data": {
      "text/html": [
       "<div>\n",
       "<style scoped>\n",
       "    .dataframe tbody tr th:only-of-type {\n",
       "        vertical-align: middle;\n",
       "    }\n",
       "\n",
       "    .dataframe tbody tr th {\n",
       "        vertical-align: top;\n",
       "    }\n",
       "\n",
       "    .dataframe thead th {\n",
       "        text-align: right;\n",
       "    }\n",
       "</style>\n",
       "<table border=\"1\" class=\"dataframe\">\n",
       "  <thead>\n",
       "    <tr style=\"text-align: right;\">\n",
       "      <th></th>\n",
       "      <th>person_age</th>\n",
       "      <th>person_income</th>\n",
       "      <th>person_emp_length</th>\n",
       "      <th>loan_amnt</th>\n",
       "      <th>loan_int_rate</th>\n",
       "      <th>loan_status</th>\n",
       "      <th>loan_percent_income</th>\n",
       "      <th>cb_person_cred_hist_length</th>\n",
       "      <th>person_home_ownership_OTHER</th>\n",
       "      <th>person_home_ownership_OWN</th>\n",
       "      <th>...</th>\n",
       "      <th>loan_intent_MEDICAL</th>\n",
       "      <th>loan_intent_PERSONAL</th>\n",
       "      <th>loan_intent_VENTURE</th>\n",
       "      <th>loan_grade_B</th>\n",
       "      <th>loan_grade_C</th>\n",
       "      <th>loan_grade_D</th>\n",
       "      <th>loan_grade_E</th>\n",
       "      <th>loan_grade_F</th>\n",
       "      <th>loan_grade_G</th>\n",
       "      <th>cb_person_default_on_file_Y</th>\n",
       "    </tr>\n",
       "  </thead>\n",
       "  <tbody>\n",
       "    <tr>\n",
       "      <th>1</th>\n",
       "      <td>21</td>\n",
       "      <td>9600</td>\n",
       "      <td>5.0</td>\n",
       "      <td>1000</td>\n",
       "      <td>11.14</td>\n",
       "      <td>0</td>\n",
       "      <td>0.10</td>\n",
       "      <td>2</td>\n",
       "      <td>0</td>\n",
       "      <td>1</td>\n",
       "      <td>...</td>\n",
       "      <td>0</td>\n",
       "      <td>0</td>\n",
       "      <td>0</td>\n",
       "      <td>1</td>\n",
       "      <td>0</td>\n",
       "      <td>0</td>\n",
       "      <td>0</td>\n",
       "      <td>0</td>\n",
       "      <td>0</td>\n",
       "      <td>0</td>\n",
       "    </tr>\n",
       "    <tr>\n",
       "      <th>2</th>\n",
       "      <td>25</td>\n",
       "      <td>9600</td>\n",
       "      <td>1.0</td>\n",
       "      <td>5500</td>\n",
       "      <td>12.87</td>\n",
       "      <td>1</td>\n",
       "      <td>0.57</td>\n",
       "      <td>3</td>\n",
       "      <td>0</td>\n",
       "      <td>0</td>\n",
       "      <td>...</td>\n",
       "      <td>1</td>\n",
       "      <td>0</td>\n",
       "      <td>0</td>\n",
       "      <td>0</td>\n",
       "      <td>1</td>\n",
       "      <td>0</td>\n",
       "      <td>0</td>\n",
       "      <td>0</td>\n",
       "      <td>0</td>\n",
       "      <td>0</td>\n",
       "    </tr>\n",
       "    <tr>\n",
       "      <th>3</th>\n",
       "      <td>23</td>\n",
       "      <td>65500</td>\n",
       "      <td>4.0</td>\n",
       "      <td>35000</td>\n",
       "      <td>15.23</td>\n",
       "      <td>1</td>\n",
       "      <td>0.53</td>\n",
       "      <td>2</td>\n",
       "      <td>0</td>\n",
       "      <td>0</td>\n",
       "      <td>...</td>\n",
       "      <td>1</td>\n",
       "      <td>0</td>\n",
       "      <td>0</td>\n",
       "      <td>0</td>\n",
       "      <td>1</td>\n",
       "      <td>0</td>\n",
       "      <td>0</td>\n",
       "      <td>0</td>\n",
       "      <td>0</td>\n",
       "      <td>0</td>\n",
       "    </tr>\n",
       "    <tr>\n",
       "      <th>4</th>\n",
       "      <td>24</td>\n",
       "      <td>54400</td>\n",
       "      <td>8.0</td>\n",
       "      <td>35000</td>\n",
       "      <td>14.27</td>\n",
       "      <td>1</td>\n",
       "      <td>0.55</td>\n",
       "      <td>4</td>\n",
       "      <td>0</td>\n",
       "      <td>0</td>\n",
       "      <td>...</td>\n",
       "      <td>1</td>\n",
       "      <td>0</td>\n",
       "      <td>0</td>\n",
       "      <td>0</td>\n",
       "      <td>1</td>\n",
       "      <td>0</td>\n",
       "      <td>0</td>\n",
       "      <td>0</td>\n",
       "      <td>0</td>\n",
       "      <td>1</td>\n",
       "    </tr>\n",
       "    <tr>\n",
       "      <th>5</th>\n",
       "      <td>21</td>\n",
       "      <td>9900</td>\n",
       "      <td>2.0</td>\n",
       "      <td>2500</td>\n",
       "      <td>7.14</td>\n",
       "      <td>1</td>\n",
       "      <td>0.25</td>\n",
       "      <td>2</td>\n",
       "      <td>0</td>\n",
       "      <td>1</td>\n",
       "      <td>...</td>\n",
       "      <td>0</td>\n",
       "      <td>0</td>\n",
       "      <td>1</td>\n",
       "      <td>0</td>\n",
       "      <td>0</td>\n",
       "      <td>0</td>\n",
       "      <td>0</td>\n",
       "      <td>0</td>\n",
       "      <td>0</td>\n",
       "      <td>0</td>\n",
       "    </tr>\n",
       "  </tbody>\n",
       "</table>\n",
       "<p>5 rows × 23 columns</p>\n",
       "</div>"
      ],
      "text/plain": [
       "   person_age  person_income  person_emp_length  loan_amnt  loan_int_rate  \\\n",
       "1          21           9600                5.0       1000          11.14   \n",
       "2          25           9600                1.0       5500          12.87   \n",
       "3          23          65500                4.0      35000          15.23   \n",
       "4          24          54400                8.0      35000          14.27   \n",
       "5          21           9900                2.0       2500           7.14   \n",
       "\n",
       "   loan_status  loan_percent_income  cb_person_cred_hist_length  \\\n",
       "1            0                 0.10                           2   \n",
       "2            1                 0.57                           3   \n",
       "3            1                 0.53                           2   \n",
       "4            1                 0.55                           4   \n",
       "5            1                 0.25                           2   \n",
       "\n",
       "   person_home_ownership_OTHER  person_home_ownership_OWN  ...  \\\n",
       "1                            0                          1  ...   \n",
       "2                            0                          0  ...   \n",
       "3                            0                          0  ...   \n",
       "4                            0                          0  ...   \n",
       "5                            0                          1  ...   \n",
       "\n",
       "   loan_intent_MEDICAL  loan_intent_PERSONAL  loan_intent_VENTURE  \\\n",
       "1                    0                     0                    0   \n",
       "2                    1                     0                    0   \n",
       "3                    1                     0                    0   \n",
       "4                    1                     0                    0   \n",
       "5                    0                     0                    1   \n",
       "\n",
       "   loan_grade_B  loan_grade_C  loan_grade_D  loan_grade_E  loan_grade_F  \\\n",
       "1             1             0             0             0             0   \n",
       "2             0             1             0             0             0   \n",
       "3             0             1             0             0             0   \n",
       "4             0             1             0             0             0   \n",
       "5             0             0             0             0             0   \n",
       "\n",
       "   loan_grade_G  cb_person_default_on_file_Y  \n",
       "1             0                            0  \n",
       "2             0                            0  \n",
       "3             0                            0  \n",
       "4             0                            1  \n",
       "5             0                            0  \n",
       "\n",
       "[5 rows x 23 columns]"
      ]
     },
     "execution_count": 31,
     "metadata": {},
     "output_type": "execute_result"
    }
   ],
   "source": [
    "df.head()"
   ]
  },
  {
   "cell_type": "code",
   "execution_count": 32,
   "id": "1f16a1b7",
   "metadata": {
    "scrolled": true
   },
   "outputs": [
    {
     "data": {
      "text/plain": [
       "person_age                       int64\n",
       "person_income                    int64\n",
       "person_emp_length              float64\n",
       "loan_amnt                        int64\n",
       "loan_int_rate                  float64\n",
       "loan_status                      int64\n",
       "loan_percent_income            float64\n",
       "cb_person_cred_hist_length       int64\n",
       "person_home_ownership_OTHER      uint8\n",
       "person_home_ownership_OWN        uint8\n",
       "person_home_ownership_RENT       uint8\n",
       "loan_intent_EDUCATION            uint8\n",
       "loan_intent_HOMEIMPROVEMENT      uint8\n",
       "loan_intent_MEDICAL              uint8\n",
       "loan_intent_PERSONAL             uint8\n",
       "loan_intent_VENTURE              uint8\n",
       "loan_grade_B                     uint8\n",
       "loan_grade_C                     uint8\n",
       "loan_grade_D                     uint8\n",
       "loan_grade_E                     uint8\n",
       "loan_grade_F                     uint8\n",
       "loan_grade_G                     uint8\n",
       "cb_person_default_on_file_Y      uint8\n",
       "dtype: object"
      ]
     },
     "execution_count": 32,
     "metadata": {},
     "output_type": "execute_result"
    }
   ],
   "source": [
    "df.dtypes"
   ]
  },
  {
   "cell_type": "markdown",
   "id": "121e16ba",
   "metadata": {},
   "source": [
    "### Linear Regression Model for person_emp_length"
   ]
  },
  {
   "cell_type": "code",
   "execution_count": 33,
   "id": "eade3f24",
   "metadata": {},
   "outputs": [],
   "source": [
    "df_lm = df[~df['person_emp_length'].isna()]\n",
    "#This ~...isna() this will give all not null values for all columns."
   ]
  },
  {
   "cell_type": "code",
   "execution_count": 34,
   "id": "2bfce33b",
   "metadata": {},
   "outputs": [
    {
     "name": "stdout",
     "output_type": "stream",
     "text": [
      "(25343, 22) (25343,)\n",
      "(6336, 22) (6336,)\n",
      "3.1371012717304514 [ 9.99620403e-02  1.38241526e-06  8.81858926e-05 -4.61690087e-02\n",
      " -3.55860301e+00 -5.71275481e-03 -1.76918043e+00 -3.96803106e-01\n",
      " -1.64145661e+00 -2.25026754e-01 -1.18042785e-01  8.16598155e-03\n",
      " -5.94712871e-02  7.62578310e-02 -2.67612571e-02 -1.11774570e-01\n",
      "  1.28956003e-01 -1.55554515e-01 -5.38657945e-01  1.14879178e+00\n",
      "  4.45566431e-03]\n"
     ]
    }
   ],
   "source": [
    "## Linear regression to predict the person_emp_length using other features\n",
    "\n",
    "# This will give all column names except person_emp_length\n",
    "\n",
    "x_with_loan_status = [col for col in df_lm.columns if col != 'person_emp_length']\n",
    "\n",
    "#Excluding loanstatus in the list of features :- \n",
    "#We should not include the target variable (y label) when using linear regression to impute \n",
    "#missing values in a column. This is because the target variable is the variable that you are trying to predict \n",
    "#or estimate, and including it in the list of features would essentially be using the target variable \n",
    "#to predict itself, which would not make sense.\n",
    "\n",
    "x_model_cols = [col for col in x_with_loan_status if col != 'loan_status']\n",
    "\n",
    "# split the dataset into training and testing sets\n",
    "# This code uses train_test_split function from sklearn_model)selection module to split data\n",
    "# df_lm[x_with_loan_status] - To train model.\n",
    "# df_lm['person_emp_length']- To validate model\n",
    "# test_size = 0.2 means 20% of the data is used for test\n",
    "# random state means same data will be picked every time we run our program\n",
    "X_train, X_test, y_train, y_test = train_test_split(df_lm[x_with_loan_status], df_lm['person_emp_length'], test_size=0.2, random_state=42)\n",
    "\n",
    "# print the shapes of the training and testing sets\n",
    "print(X_train.shape, y_train.shape)\n",
    "print(X_test.shape, y_test.shape)\n",
    "\n",
    "# create a linear regression object\n",
    "lr = LinearRegression()\n",
    "\n",
    "# fit the linear regression model\n",
    "lr.fit(X_train[x_model_cols], y_train)\n",
    "\n",
    "# print the model coefficients\n",
    "print(lr.intercept_, lr.coef_)\n"
   ]
  },
  {
   "cell_type": "code",
   "execution_count": 35,
   "id": "94ca9398",
   "metadata": {},
   "outputs": [
    {
     "data": {
      "text/html": [
       "<div>\n",
       "<style scoped>\n",
       "    .dataframe tbody tr th:only-of-type {\n",
       "        vertical-align: middle;\n",
       "    }\n",
       "\n",
       "    .dataframe tbody tr th {\n",
       "        vertical-align: top;\n",
       "    }\n",
       "\n",
       "    .dataframe thead th {\n",
       "        text-align: right;\n",
       "    }\n",
       "</style>\n",
       "<table border=\"1\" class=\"dataframe\">\n",
       "  <thead>\n",
       "    <tr style=\"text-align: right;\">\n",
       "      <th></th>\n",
       "      <th>person_age</th>\n",
       "      <th>person_income</th>\n",
       "      <th>person_emp_length</th>\n",
       "      <th>loan_amnt</th>\n",
       "      <th>loan_int_rate</th>\n",
       "      <th>loan_status</th>\n",
       "      <th>loan_percent_income</th>\n",
       "      <th>cb_person_cred_hist_length</th>\n",
       "      <th>person_home_ownership_OTHER</th>\n",
       "      <th>person_home_ownership_OWN</th>\n",
       "      <th>...</th>\n",
       "      <th>loan_intent_MEDICAL</th>\n",
       "      <th>loan_intent_PERSONAL</th>\n",
       "      <th>loan_intent_VENTURE</th>\n",
       "      <th>loan_grade_B</th>\n",
       "      <th>loan_grade_C</th>\n",
       "      <th>loan_grade_D</th>\n",
       "      <th>loan_grade_E</th>\n",
       "      <th>loan_grade_F</th>\n",
       "      <th>loan_grade_G</th>\n",
       "      <th>cb_person_default_on_file_Y</th>\n",
       "    </tr>\n",
       "  </thead>\n",
       "  <tbody>\n",
       "    <tr>\n",
       "      <th>1</th>\n",
       "      <td>21</td>\n",
       "      <td>9600</td>\n",
       "      <td>5.0</td>\n",
       "      <td>1000</td>\n",
       "      <td>11.14</td>\n",
       "      <td>0</td>\n",
       "      <td>0.10</td>\n",
       "      <td>2</td>\n",
       "      <td>0</td>\n",
       "      <td>1</td>\n",
       "      <td>...</td>\n",
       "      <td>0</td>\n",
       "      <td>0</td>\n",
       "      <td>0</td>\n",
       "      <td>1</td>\n",
       "      <td>0</td>\n",
       "      <td>0</td>\n",
       "      <td>0</td>\n",
       "      <td>0</td>\n",
       "      <td>0</td>\n",
       "      <td>0</td>\n",
       "    </tr>\n",
       "    <tr>\n",
       "      <th>2</th>\n",
       "      <td>25</td>\n",
       "      <td>9600</td>\n",
       "      <td>1.0</td>\n",
       "      <td>5500</td>\n",
       "      <td>12.87</td>\n",
       "      <td>1</td>\n",
       "      <td>0.57</td>\n",
       "      <td>3</td>\n",
       "      <td>0</td>\n",
       "      <td>0</td>\n",
       "      <td>...</td>\n",
       "      <td>1</td>\n",
       "      <td>0</td>\n",
       "      <td>0</td>\n",
       "      <td>0</td>\n",
       "      <td>1</td>\n",
       "      <td>0</td>\n",
       "      <td>0</td>\n",
       "      <td>0</td>\n",
       "      <td>0</td>\n",
       "      <td>0</td>\n",
       "    </tr>\n",
       "    <tr>\n",
       "      <th>3</th>\n",
       "      <td>23</td>\n",
       "      <td>65500</td>\n",
       "      <td>4.0</td>\n",
       "      <td>35000</td>\n",
       "      <td>15.23</td>\n",
       "      <td>1</td>\n",
       "      <td>0.53</td>\n",
       "      <td>2</td>\n",
       "      <td>0</td>\n",
       "      <td>0</td>\n",
       "      <td>...</td>\n",
       "      <td>1</td>\n",
       "      <td>0</td>\n",
       "      <td>0</td>\n",
       "      <td>0</td>\n",
       "      <td>1</td>\n",
       "      <td>0</td>\n",
       "      <td>0</td>\n",
       "      <td>0</td>\n",
       "      <td>0</td>\n",
       "      <td>0</td>\n",
       "    </tr>\n",
       "    <tr>\n",
       "      <th>4</th>\n",
       "      <td>24</td>\n",
       "      <td>54400</td>\n",
       "      <td>8.0</td>\n",
       "      <td>35000</td>\n",
       "      <td>14.27</td>\n",
       "      <td>1</td>\n",
       "      <td>0.55</td>\n",
       "      <td>4</td>\n",
       "      <td>0</td>\n",
       "      <td>0</td>\n",
       "      <td>...</td>\n",
       "      <td>1</td>\n",
       "      <td>0</td>\n",
       "      <td>0</td>\n",
       "      <td>0</td>\n",
       "      <td>1</td>\n",
       "      <td>0</td>\n",
       "      <td>0</td>\n",
       "      <td>0</td>\n",
       "      <td>0</td>\n",
       "      <td>1</td>\n",
       "    </tr>\n",
       "    <tr>\n",
       "      <th>5</th>\n",
       "      <td>21</td>\n",
       "      <td>9900</td>\n",
       "      <td>2.0</td>\n",
       "      <td>2500</td>\n",
       "      <td>7.14</td>\n",
       "      <td>1</td>\n",
       "      <td>0.25</td>\n",
       "      <td>2</td>\n",
       "      <td>0</td>\n",
       "      <td>1</td>\n",
       "      <td>...</td>\n",
       "      <td>0</td>\n",
       "      <td>0</td>\n",
       "      <td>1</td>\n",
       "      <td>0</td>\n",
       "      <td>0</td>\n",
       "      <td>0</td>\n",
       "      <td>0</td>\n",
       "      <td>0</td>\n",
       "      <td>0</td>\n",
       "      <td>0</td>\n",
       "    </tr>\n",
       "  </tbody>\n",
       "</table>\n",
       "<p>5 rows × 23 columns</p>\n",
       "</div>"
      ],
      "text/plain": [
       "   person_age  person_income  person_emp_length  loan_amnt  loan_int_rate  \\\n",
       "1          21           9600                5.0       1000          11.14   \n",
       "2          25           9600                1.0       5500          12.87   \n",
       "3          23          65500                4.0      35000          15.23   \n",
       "4          24          54400                8.0      35000          14.27   \n",
       "5          21           9900                2.0       2500           7.14   \n",
       "\n",
       "   loan_status  loan_percent_income  cb_person_cred_hist_length  \\\n",
       "1            0                 0.10                           2   \n",
       "2            1                 0.57                           3   \n",
       "3            1                 0.53                           2   \n",
       "4            1                 0.55                           4   \n",
       "5            1                 0.25                           2   \n",
       "\n",
       "   person_home_ownership_OTHER  person_home_ownership_OWN  ...  \\\n",
       "1                            0                          1  ...   \n",
       "2                            0                          0  ...   \n",
       "3                            0                          0  ...   \n",
       "4                            0                          0  ...   \n",
       "5                            0                          1  ...   \n",
       "\n",
       "   loan_intent_MEDICAL  loan_intent_PERSONAL  loan_intent_VENTURE  \\\n",
       "1                    0                     0                    0   \n",
       "2                    1                     0                    0   \n",
       "3                    1                     0                    0   \n",
       "4                    1                     0                    0   \n",
       "5                    0                     0                    1   \n",
       "\n",
       "   loan_grade_B  loan_grade_C  loan_grade_D  loan_grade_E  loan_grade_F  \\\n",
       "1             1             0             0             0             0   \n",
       "2             0             1             0             0             0   \n",
       "3             0             1             0             0             0   \n",
       "4             0             1             0             0             0   \n",
       "5             0             0             0             0             0   \n",
       "\n",
       "   loan_grade_G  cb_person_default_on_file_Y  \n",
       "1             0                            0  \n",
       "2             0                            0  \n",
       "3             0                            0  \n",
       "4             0                            1  \n",
       "5             0                            0  \n",
       "\n",
       "[5 rows x 23 columns]"
      ]
     },
     "execution_count": 35,
     "metadata": {},
     "output_type": "execute_result"
    }
   ],
   "source": [
    "df_lm.head()"
   ]
  },
  {
   "cell_type": "code",
   "execution_count": 36,
   "id": "3590c561",
   "metadata": {},
   "outputs": [
    {
     "data": {
      "text/html": [
       "<div>\n",
       "<style scoped>\n",
       "    .dataframe tbody tr th:only-of-type {\n",
       "        vertical-align: middle;\n",
       "    }\n",
       "\n",
       "    .dataframe tbody tr th {\n",
       "        vertical-align: top;\n",
       "    }\n",
       "\n",
       "    .dataframe thead th {\n",
       "        text-align: right;\n",
       "    }\n",
       "</style>\n",
       "<table border=\"1\" class=\"dataframe\">\n",
       "  <thead>\n",
       "    <tr style=\"text-align: right;\">\n",
       "      <th></th>\n",
       "      <th>actual</th>\n",
       "      <th>predicted</th>\n",
       "      <th>diff</th>\n",
       "    </tr>\n",
       "  </thead>\n",
       "  <tbody>\n",
       "    <tr>\n",
       "      <th>0</th>\n",
       "      <td>2.0</td>\n",
       "      <td>3.932661</td>\n",
       "      <td>-1.932661</td>\n",
       "    </tr>\n",
       "    <tr>\n",
       "      <th>1</th>\n",
       "      <td>11.0</td>\n",
       "      <td>6.611473</td>\n",
       "      <td>4.388527</td>\n",
       "    </tr>\n",
       "    <tr>\n",
       "      <th>2</th>\n",
       "      <td>11.0</td>\n",
       "      <td>4.829655</td>\n",
       "      <td>6.170345</td>\n",
       "    </tr>\n",
       "    <tr>\n",
       "      <th>3</th>\n",
       "      <td>3.0</td>\n",
       "      <td>3.846100</td>\n",
       "      <td>-0.846100</td>\n",
       "    </tr>\n",
       "    <tr>\n",
       "      <th>4</th>\n",
       "      <td>8.0</td>\n",
       "      <td>3.125367</td>\n",
       "      <td>4.874633</td>\n",
       "    </tr>\n",
       "  </tbody>\n",
       "</table>\n",
       "</div>"
      ],
      "text/plain": [
       "   actual  predicted      diff\n",
       "0     2.0   3.932661 -1.932661\n",
       "1    11.0   6.611473  4.388527\n",
       "2    11.0   4.829655  6.170345\n",
       "3     3.0   3.846100 -0.846100\n",
       "4     8.0   3.125367  4.874633"
      ]
     },
     "execution_count": 36,
     "metadata": {},
     "output_type": "execute_result"
    }
   ],
   "source": [
    "# Gives a predicted target values ; tolist() gives the output in form of list\n",
    "\n",
    "pred = lr.predict(X_test[x_model_cols]).tolist()\n",
    "actual = y_test.tolist()\n",
    "\n",
    "#To calculate the difference between actual value and the predicted value\n",
    "\n",
    "df_compare =  pd.DataFrame({'actual': actual, 'predicted': pred})\n",
    "df_compare['diff'] = df_compare['actual']-df_compare['predicted']\n",
    "df_compare.head()"
   ]
  },
  {
   "cell_type": "code",
   "execution_count": 37,
   "id": "3760160d",
   "metadata": {},
   "outputs": [
    {
     "data": {
      "text/plain": [
       "<AxesSubplot:>"
      ]
     },
     "execution_count": 37,
     "metadata": {},
     "output_type": "execute_result"
    },
    {
     "data": {
      "image/png": "[encoded data removed]",
      "text/plain": [
       "<Figure size 640x480 with 1 Axes>"
      ]
     },
     "metadata": {},
     "output_type": "display_data"
    }
   ],
   "source": [
    "df_compare['diff'].hist()"
   ]
  },
  {
   "cell_type": "code",
   "execution_count": 38,
   "id": "8f69f9be",
   "metadata": {},
   "outputs": [
    {
     "data": {
      "text/html": [
       "<div>\n",
       "<style scoped>\n",
       "    .dataframe tbody tr th:only-of-type {\n",
       "        vertical-align: middle;\n",
       "    }\n",
       "\n",
       "    .dataframe tbody tr th {\n",
       "        vertical-align: top;\n",
       "    }\n",
       "\n",
       "    .dataframe thead th {\n",
       "        text-align: right;\n",
       "    }\n",
       "</style>\n",
       "<table border=\"1\" class=\"dataframe\">\n",
       "  <thead>\n",
       "    <tr style=\"text-align: right;\">\n",
       "      <th></th>\n",
       "      <th>person_age</th>\n",
       "      <th>person_income</th>\n",
       "      <th>person_emp_length</th>\n",
       "      <th>loan_amnt</th>\n",
       "      <th>loan_int_rate</th>\n",
       "      <th>loan_status</th>\n",
       "      <th>loan_percent_income</th>\n",
       "      <th>cb_person_cred_hist_length</th>\n",
       "      <th>person_home_ownership_OTHER</th>\n",
       "      <th>person_home_ownership_OWN</th>\n",
       "      <th>...</th>\n",
       "      <th>loan_intent_MEDICAL</th>\n",
       "      <th>loan_intent_PERSONAL</th>\n",
       "      <th>loan_intent_VENTURE</th>\n",
       "      <th>loan_grade_B</th>\n",
       "      <th>loan_grade_C</th>\n",
       "      <th>loan_grade_D</th>\n",
       "      <th>loan_grade_E</th>\n",
       "      <th>loan_grade_F</th>\n",
       "      <th>loan_grade_G</th>\n",
       "      <th>cb_person_default_on_file_Y</th>\n",
       "    </tr>\n",
       "  </thead>\n",
       "  <tbody>\n",
       "    <tr>\n",
       "      <th>105</th>\n",
       "      <td>22</td>\n",
       "      <td>12600</td>\n",
       "      <td>5</td>\n",
       "      <td>2000</td>\n",
       "      <td>5.42</td>\n",
       "      <td>1</td>\n",
       "      <td>0.16</td>\n",
       "      <td>4</td>\n",
       "      <td>0</td>\n",
       "      <td>0</td>\n",
       "      <td>...</td>\n",
       "      <td>0</td>\n",
       "      <td>1</td>\n",
       "      <td>0</td>\n",
       "      <td>0</td>\n",
       "      <td>0</td>\n",
       "      <td>0</td>\n",
       "      <td>0</td>\n",
       "      <td>0</td>\n",
       "      <td>0</td>\n",
       "      <td>0</td>\n",
       "    </tr>\n",
       "    <tr>\n",
       "      <th>222</th>\n",
       "      <td>24</td>\n",
       "      <td>185000</td>\n",
       "      <td>7</td>\n",
       "      <td>35000</td>\n",
       "      <td>12.42</td>\n",
       "      <td>0</td>\n",
       "      <td>0.19</td>\n",
       "      <td>2</td>\n",
       "      <td>0</td>\n",
       "      <td>0</td>\n",
       "      <td>...</td>\n",
       "      <td>0</td>\n",
       "      <td>0</td>\n",
       "      <td>0</td>\n",
       "      <td>1</td>\n",
       "      <td>0</td>\n",
       "      <td>0</td>\n",
       "      <td>0</td>\n",
       "      <td>0</td>\n",
       "      <td>0</td>\n",
       "      <td>0</td>\n",
       "    </tr>\n",
       "    <tr>\n",
       "      <th>379</th>\n",
       "      <td>24</td>\n",
       "      <td>16800</td>\n",
       "      <td>5</td>\n",
       "      <td>3900</td>\n",
       "      <td>7.49</td>\n",
       "      <td>1</td>\n",
       "      <td>0.23</td>\n",
       "      <td>3</td>\n",
       "      <td>0</td>\n",
       "      <td>0</td>\n",
       "      <td>...</td>\n",
       "      <td>0</td>\n",
       "      <td>0</td>\n",
       "      <td>0</td>\n",
       "      <td>0</td>\n",
       "      <td>0</td>\n",
       "      <td>0</td>\n",
       "      <td>0</td>\n",
       "      <td>0</td>\n",
       "      <td>0</td>\n",
       "      <td>0</td>\n",
       "    </tr>\n",
       "    <tr>\n",
       "      <th>407</th>\n",
       "      <td>25</td>\n",
       "      <td>52000</td>\n",
       "      <td>4</td>\n",
       "      <td>24000</td>\n",
       "      <td>10.74</td>\n",
       "      <td>1</td>\n",
       "      <td>0.46</td>\n",
       "      <td>2</td>\n",
       "      <td>0</td>\n",
       "      <td>0</td>\n",
       "      <td>...</td>\n",
       "      <td>0</td>\n",
       "      <td>1</td>\n",
       "      <td>0</td>\n",
       "      <td>1</td>\n",
       "      <td>0</td>\n",
       "      <td>0</td>\n",
       "      <td>0</td>\n",
       "      <td>0</td>\n",
       "      <td>0</td>\n",
       "      <td>0</td>\n",
       "    </tr>\n",
       "    <tr>\n",
       "      <th>408</th>\n",
       "      <td>22</td>\n",
       "      <td>17352</td>\n",
       "      <td>4</td>\n",
       "      <td>2250</td>\n",
       "      <td>15.27</td>\n",
       "      <td>0</td>\n",
       "      <td>0.13</td>\n",
       "      <td>3</td>\n",
       "      <td>0</td>\n",
       "      <td>0</td>\n",
       "      <td>...</td>\n",
       "      <td>0</td>\n",
       "      <td>0</td>\n",
       "      <td>0</td>\n",
       "      <td>0</td>\n",
       "      <td>1</td>\n",
       "      <td>0</td>\n",
       "      <td>0</td>\n",
       "      <td>0</td>\n",
       "      <td>0</td>\n",
       "      <td>1</td>\n",
       "    </tr>\n",
       "  </tbody>\n",
       "</table>\n",
       "<p>5 rows × 23 columns</p>\n",
       "</div>"
      ],
      "text/plain": [
       "     person_age  person_income  person_emp_length  loan_amnt  loan_int_rate  \\\n",
       "105          22          12600                  5       2000           5.42   \n",
       "222          24         185000                  7      35000          12.42   \n",
       "379          24          16800                  5       3900           7.49   \n",
       "407          25          52000                  4      24000          10.74   \n",
       "408          22          17352                  4       2250          15.27   \n",
       "\n",
       "     loan_status  loan_percent_income  cb_person_cred_hist_length  \\\n",
       "105            1                 0.16                           4   \n",
       "222            0                 0.19                           2   \n",
       "379            1                 0.23                           3   \n",
       "407            1                 0.46                           2   \n",
       "408            0                 0.13                           3   \n",
       "\n",
       "     person_home_ownership_OTHER  person_home_ownership_OWN  ...  \\\n",
       "105                            0                          0  ...   \n",
       "222                            0                          0  ...   \n",
       "379                            0                          0  ...   \n",
       "407                            0                          0  ...   \n",
       "408                            0                          0  ...   \n",
       "\n",
       "     loan_intent_MEDICAL  loan_intent_PERSONAL  loan_intent_VENTURE  \\\n",
       "105                    0                     1                    0   \n",
       "222                    0                     0                    0   \n",
       "379                    0                     0                    0   \n",
       "407                    0                     1                    0   \n",
       "408                    0                     0                    0   \n",
       "\n",
       "     loan_grade_B  loan_grade_C  loan_grade_D  loan_grade_E  loan_grade_F  \\\n",
       "105             0             0             0             0             0   \n",
       "222             1             0             0             0             0   \n",
       "379             0             0             0             0             0   \n",
       "407             1             0             0             0             0   \n",
       "408             0             1             0             0             0   \n",
       "\n",
       "     loan_grade_G  cb_person_default_on_file_Y  \n",
       "105             0                            0  \n",
       "222             0                            0  \n",
       "379             0                            0  \n",
       "407             0                            0  \n",
       "408             0                            1  \n",
       "\n",
       "[5 rows x 23 columns]"
      ]
     },
     "execution_count": 38,
     "metadata": {},
     "output_type": "execute_result"
    }
   ],
   "source": [
    "# Filling the null value of person_emp_length with predicted values of Linear model\n",
    "\n",
    "df_null = df[df['person_emp_length'].isna()]\n",
    "df_null_model = df_null[x_model_cols]\n",
    "df_null_predictions = lr.predict(df_null_model).tolist()\n",
    "df_null_predictions= [round(i) for i in df_null_predictions]\n",
    "df_null['person_emp_length'] = df_null_predictions\n",
    "df_null.head()"
   ]
  },
  {
   "cell_type": "code",
   "execution_count": 39,
   "id": "2b05a6e9",
   "metadata": {},
   "outputs": [
    {
     "data": {
      "text/html": [
       "<div>\n",
       "<style scoped>\n",
       "    .dataframe tbody tr th:only-of-type {\n",
       "        vertical-align: middle;\n",
       "    }\n",
       "\n",
       "    .dataframe tbody tr th {\n",
       "        vertical-align: top;\n",
       "    }\n",
       "\n",
       "    .dataframe thead th {\n",
       "        text-align: right;\n",
       "    }\n",
       "</style>\n",
       "<table border=\"1\" class=\"dataframe\">\n",
       "  <thead>\n",
       "    <tr style=\"text-align: right;\">\n",
       "      <th></th>\n",
       "      <th>person_age</th>\n",
       "      <th>person_income</th>\n",
       "      <th>person_emp_length</th>\n",
       "      <th>loan_amnt</th>\n",
       "      <th>loan_int_rate</th>\n",
       "      <th>loan_status</th>\n",
       "      <th>loan_percent_income</th>\n",
       "      <th>cb_person_cred_hist_length</th>\n",
       "      <th>person_home_ownership_OTHER</th>\n",
       "      <th>person_home_ownership_OWN</th>\n",
       "      <th>...</th>\n",
       "      <th>loan_intent_MEDICAL</th>\n",
       "      <th>loan_intent_PERSONAL</th>\n",
       "      <th>loan_intent_VENTURE</th>\n",
       "      <th>loan_grade_B</th>\n",
       "      <th>loan_grade_C</th>\n",
       "      <th>loan_grade_D</th>\n",
       "      <th>loan_grade_E</th>\n",
       "      <th>loan_grade_F</th>\n",
       "      <th>loan_grade_G</th>\n",
       "      <th>cb_person_default_on_file_Y</th>\n",
       "    </tr>\n",
       "  </thead>\n",
       "  <tbody>\n",
       "    <tr>\n",
       "      <th>1</th>\n",
       "      <td>21</td>\n",
       "      <td>9600</td>\n",
       "      <td>5.0</td>\n",
       "      <td>1000</td>\n",
       "      <td>11.14</td>\n",
       "      <td>0</td>\n",
       "      <td>0.10</td>\n",
       "      <td>2</td>\n",
       "      <td>0</td>\n",
       "      <td>1</td>\n",
       "      <td>...</td>\n",
       "      <td>0</td>\n",
       "      <td>0</td>\n",
       "      <td>0</td>\n",
       "      <td>1</td>\n",
       "      <td>0</td>\n",
       "      <td>0</td>\n",
       "      <td>0</td>\n",
       "      <td>0</td>\n",
       "      <td>0</td>\n",
       "      <td>0</td>\n",
       "    </tr>\n",
       "    <tr>\n",
       "      <th>2</th>\n",
       "      <td>25</td>\n",
       "      <td>9600</td>\n",
       "      <td>1.0</td>\n",
       "      <td>5500</td>\n",
       "      <td>12.87</td>\n",
       "      <td>1</td>\n",
       "      <td>0.57</td>\n",
       "      <td>3</td>\n",
       "      <td>0</td>\n",
       "      <td>0</td>\n",
       "      <td>...</td>\n",
       "      <td>1</td>\n",
       "      <td>0</td>\n",
       "      <td>0</td>\n",
       "      <td>0</td>\n",
       "      <td>1</td>\n",
       "      <td>0</td>\n",
       "      <td>0</td>\n",
       "      <td>0</td>\n",
       "      <td>0</td>\n",
       "      <td>0</td>\n",
       "    </tr>\n",
       "    <tr>\n",
       "      <th>3</th>\n",
       "      <td>23</td>\n",
       "      <td>65500</td>\n",
       "      <td>4.0</td>\n",
       "      <td>35000</td>\n",
       "      <td>15.23</td>\n",
       "      <td>1</td>\n",
       "      <td>0.53</td>\n",
       "      <td>2</td>\n",
       "      <td>0</td>\n",
       "      <td>0</td>\n",
       "      <td>...</td>\n",
       "      <td>1</td>\n",
       "      <td>0</td>\n",
       "      <td>0</td>\n",
       "      <td>0</td>\n",
       "      <td>1</td>\n",
       "      <td>0</td>\n",
       "      <td>0</td>\n",
       "      <td>0</td>\n",
       "      <td>0</td>\n",
       "      <td>0</td>\n",
       "    </tr>\n",
       "    <tr>\n",
       "      <th>4</th>\n",
       "      <td>24</td>\n",
       "      <td>54400</td>\n",
       "      <td>8.0</td>\n",
       "      <td>35000</td>\n",
       "      <td>14.27</td>\n",
       "      <td>1</td>\n",
       "      <td>0.55</td>\n",
       "      <td>4</td>\n",
       "      <td>0</td>\n",
       "      <td>0</td>\n",
       "      <td>...</td>\n",
       "      <td>1</td>\n",
       "      <td>0</td>\n",
       "      <td>0</td>\n",
       "      <td>0</td>\n",
       "      <td>1</td>\n",
       "      <td>0</td>\n",
       "      <td>0</td>\n",
       "      <td>0</td>\n",
       "      <td>0</td>\n",
       "      <td>1</td>\n",
       "    </tr>\n",
       "    <tr>\n",
       "      <th>5</th>\n",
       "      <td>21</td>\n",
       "      <td>9900</td>\n",
       "      <td>2.0</td>\n",
       "      <td>2500</td>\n",
       "      <td>7.14</td>\n",
       "      <td>1</td>\n",
       "      <td>0.25</td>\n",
       "      <td>2</td>\n",
       "      <td>0</td>\n",
       "      <td>1</td>\n",
       "      <td>...</td>\n",
       "      <td>0</td>\n",
       "      <td>0</td>\n",
       "      <td>1</td>\n",
       "      <td>0</td>\n",
       "      <td>0</td>\n",
       "      <td>0</td>\n",
       "      <td>0</td>\n",
       "      <td>0</td>\n",
       "      <td>0</td>\n",
       "      <td>0</td>\n",
       "    </tr>\n",
       "  </tbody>\n",
       "</table>\n",
       "<p>5 rows × 23 columns</p>\n",
       "</div>"
      ],
      "text/plain": [
       "   person_age  person_income  person_emp_length  loan_amnt  loan_int_rate  \\\n",
       "1          21           9600                5.0       1000          11.14   \n",
       "2          25           9600                1.0       5500          12.87   \n",
       "3          23          65500                4.0      35000          15.23   \n",
       "4          24          54400                8.0      35000          14.27   \n",
       "5          21           9900                2.0       2500           7.14   \n",
       "\n",
       "   loan_status  loan_percent_income  cb_person_cred_hist_length  \\\n",
       "1            0                 0.10                           2   \n",
       "2            1                 0.57                           3   \n",
       "3            1                 0.53                           2   \n",
       "4            1                 0.55                           4   \n",
       "5            1                 0.25                           2   \n",
       "\n",
       "   person_home_ownership_OTHER  person_home_ownership_OWN  ...  \\\n",
       "1                            0                          1  ...   \n",
       "2                            0                          0  ...   \n",
       "3                            0                          0  ...   \n",
       "4                            0                          0  ...   \n",
       "5                            0                          1  ...   \n",
       "\n",
       "   loan_intent_MEDICAL  loan_intent_PERSONAL  loan_intent_VENTURE  \\\n",
       "1                    0                     0                    0   \n",
       "2                    1                     0                    0   \n",
       "3                    1                     0                    0   \n",
       "4                    1                     0                    0   \n",
       "5                    0                     0                    1   \n",
       "\n",
       "   loan_grade_B  loan_grade_C  loan_grade_D  loan_grade_E  loan_grade_F  \\\n",
       "1             1             0             0             0             0   \n",
       "2             0             1             0             0             0   \n",
       "3             0             1             0             0             0   \n",
       "4             0             1             0             0             0   \n",
       "5             0             0             0             0             0   \n",
       "\n",
       "   loan_grade_G  cb_person_default_on_file_Y  \n",
       "1             0                            0  \n",
       "2             0                            0  \n",
       "3             0                            0  \n",
       "4             0                            1  \n",
       "5             0                            0  \n",
       "\n",
       "[5 rows x 23 columns]"
      ]
     },
     "execution_count": 39,
     "metadata": {},
     "output_type": "execute_result"
    }
   ],
   "source": [
    "# Concatinating the null data frame with non null data frame \n",
    "\n",
    "df = pd.concat([df_lm,df_null],axis=0)\n",
    "df.head()\n"
   ]
  },
  {
   "cell_type": "code",
   "execution_count": 40,
   "id": "87e190b6",
   "metadata": {},
   "outputs": [
    {
     "data": {
      "text/plain": [
       "person_age                     0\n",
       "person_income                  0\n",
       "person_emp_length              0\n",
       "loan_amnt                      0\n",
       "loan_int_rate                  0\n",
       "loan_status                    0\n",
       "loan_percent_income            0\n",
       "cb_person_cred_hist_length     0\n",
       "person_home_ownership_OTHER    0\n",
       "person_home_ownership_OWN      0\n",
       "person_home_ownership_RENT     0\n",
       "loan_intent_EDUCATION          0\n",
       "loan_intent_HOMEIMPROVEMENT    0\n",
       "loan_intent_MEDICAL            0\n",
       "loan_intent_PERSONAL           0\n",
       "loan_intent_VENTURE            0\n",
       "loan_grade_B                   0\n",
       "loan_grade_C                   0\n",
       "loan_grade_D                   0\n",
       "loan_grade_E                   0\n",
       "loan_grade_F                   0\n",
       "loan_grade_G                   0\n",
       "cb_person_default_on_file_Y    0\n",
       "dtype: int64"
      ]
     },
     "execution_count": 40,
     "metadata": {},
     "output_type": "execute_result"
    }
   ],
   "source": [
    "df.isna().sum()"
   ]
  },
  {
   "cell_type": "code",
   "execution_count": 41,
   "id": "d4d2c2f3",
   "metadata": {},
   "outputs": [
    {
     "data": {
      "text/plain": [
       "(32574, 23)"
      ]
     },
     "execution_count": 41,
     "metadata": {},
     "output_type": "execute_result"
    }
   ],
   "source": [
    "df.shape"
   ]
  },
  {
   "cell_type": "markdown",
   "id": "87c77930",
   "metadata": {},
   "source": [
    "## 2d) Feature Engineering :\n",
    "- Feature engineering is the process of selecting and transforming raw data into a format that can be effectively used by machine learning algorithms to make predictions or classifications. In other words, it involves creating features, or input variables, that capture the relevant characteristics of the data in a way that allows a machine learning model to learn from it and make accurate predictions.The process of feature engineering often involves several steps, including data preprocessing, feature selection, feature extraction, and feature transformation. These steps may involve techniques such as data cleaning, normalization, one-hot encoding, dimensionality reduction, and others.Good feature engineering is essential for creating accurate and effective machine learning models, as it can significantly impact the performance of the model. "
   ]
  },
  {
   "cell_type": "markdown",
   "id": "3914b791",
   "metadata": {},
   "source": [
    "###  i) Binning Person Age and Employment Length Features"
   ]
  },
  {
   "cell_type": "code",
   "execution_count": 42,
   "id": "370647d1",
   "metadata": {},
   "outputs": [
    {
     "name": "stdout",
     "output_type": "stream",
     "text": [
      "Minimum Person Age in the dataset:  20\n",
      "Maximum Person Age in the dataset:  94\n"
     ]
    }
   ],
   "source": [
    "print('Minimum Person Age in the dataset: ', df['person_age'].min())\n",
    "print('Maximum Person Age in the dataset: ', df['person_age'].max())"
   ]
  },
  {
   "cell_type": "code",
   "execution_count": 43,
   "id": "6af162cc",
   "metadata": {},
   "outputs": [],
   "source": [
    "bins = [20, 30, 40, 50, 60, 70, 80, 90, 100]\n",
    "labels = ['20-30','30-40','40-50','50-60','60-70','70-80', '80-90', '90-100']\n",
    "df['person_age_binned'] = pd.cut(df['person_age'], bins=bins, labels=labels, include_lowest=True)\n",
    "#include_lowest = True for including the lowest value in the first bin"
   ]
  },
  {
   "cell_type": "code",
   "execution_count": 44,
   "id": "f3d2034f",
   "metadata": {},
   "outputs": [],
   "source": [
    "# drop original person age feature; axis=1(means remove column); inplace=True means make changes to same dataframe\n",
    "df.drop(['person_age'],axis=1, inplace=True)"
   ]
  },
  {
   "cell_type": "code",
   "execution_count": 45,
   "id": "ab51393b",
   "metadata": {},
   "outputs": [
    {
     "data": {
      "text/html": [
       "<div>\n",
       "<style scoped>\n",
       "    .dataframe tbody tr th:only-of-type {\n",
       "        vertical-align: middle;\n",
       "    }\n",
       "\n",
       "    .dataframe tbody tr th {\n",
       "        vertical-align: top;\n",
       "    }\n",
       "\n",
       "    .dataframe thead th {\n",
       "        text-align: right;\n",
       "    }\n",
       "</style>\n",
       "<table border=\"1\" class=\"dataframe\">\n",
       "  <thead>\n",
       "    <tr style=\"text-align: right;\">\n",
       "      <th></th>\n",
       "      <th>person_income</th>\n",
       "      <th>person_emp_length</th>\n",
       "      <th>loan_amnt</th>\n",
       "      <th>loan_int_rate</th>\n",
       "      <th>loan_status</th>\n",
       "      <th>loan_percent_income</th>\n",
       "      <th>cb_person_cred_hist_length</th>\n",
       "      <th>person_home_ownership_OTHER</th>\n",
       "      <th>person_home_ownership_OWN</th>\n",
       "      <th>person_home_ownership_RENT</th>\n",
       "      <th>...</th>\n",
       "      <th>loan_intent_PERSONAL</th>\n",
       "      <th>loan_intent_VENTURE</th>\n",
       "      <th>loan_grade_B</th>\n",
       "      <th>loan_grade_C</th>\n",
       "      <th>loan_grade_D</th>\n",
       "      <th>loan_grade_E</th>\n",
       "      <th>loan_grade_F</th>\n",
       "      <th>loan_grade_G</th>\n",
       "      <th>cb_person_default_on_file_Y</th>\n",
       "      <th>person_age_binned</th>\n",
       "    </tr>\n",
       "  </thead>\n",
       "  <tbody>\n",
       "    <tr>\n",
       "      <th>32115</th>\n",
       "      <td>48000</td>\n",
       "      <td>7.0</td>\n",
       "      <td>3000</td>\n",
       "      <td>5.42</td>\n",
       "      <td>0</td>\n",
       "      <td>0.06</td>\n",
       "      <td>16</td>\n",
       "      <td>0</td>\n",
       "      <td>0</td>\n",
       "      <td>0</td>\n",
       "      <td>...</td>\n",
       "      <td>0</td>\n",
       "      <td>0</td>\n",
       "      <td>0</td>\n",
       "      <td>0</td>\n",
       "      <td>0</td>\n",
       "      <td>0</td>\n",
       "      <td>0</td>\n",
       "      <td>0</td>\n",
       "      <td>0</td>\n",
       "      <td>30-40</td>\n",
       "    </tr>\n",
       "    <tr>\n",
       "      <th>32139</th>\n",
       "      <td>21408</td>\n",
       "      <td>6.0</td>\n",
       "      <td>1500</td>\n",
       "      <td>11.12</td>\n",
       "      <td>0</td>\n",
       "      <td>0.07</td>\n",
       "      <td>17</td>\n",
       "      <td>0</td>\n",
       "      <td>0</td>\n",
       "      <td>0</td>\n",
       "      <td>...</td>\n",
       "      <td>0</td>\n",
       "      <td>0</td>\n",
       "      <td>1</td>\n",
       "      <td>0</td>\n",
       "      <td>0</td>\n",
       "      <td>0</td>\n",
       "      <td>0</td>\n",
       "      <td>0</td>\n",
       "      <td>0</td>\n",
       "      <td>30-40</td>\n",
       "    </tr>\n",
       "    <tr>\n",
       "      <th>32242</th>\n",
       "      <td>43439</td>\n",
       "      <td>5.0</td>\n",
       "      <td>15000</td>\n",
       "      <td>12.73</td>\n",
       "      <td>1</td>\n",
       "      <td>0.35</td>\n",
       "      <td>15</td>\n",
       "      <td>0</td>\n",
       "      <td>0</td>\n",
       "      <td>1</td>\n",
       "      <td>...</td>\n",
       "      <td>0</td>\n",
       "      <td>1</td>\n",
       "      <td>0</td>\n",
       "      <td>1</td>\n",
       "      <td>0</td>\n",
       "      <td>0</td>\n",
       "      <td>0</td>\n",
       "      <td>0</td>\n",
       "      <td>1</td>\n",
       "      <td>40-50</td>\n",
       "    </tr>\n",
       "    <tr>\n",
       "      <th>32264</th>\n",
       "      <td>51600</td>\n",
       "      <td>5.0</td>\n",
       "      <td>1500</td>\n",
       "      <td>11.86</td>\n",
       "      <td>0</td>\n",
       "      <td>0.03</td>\n",
       "      <td>12</td>\n",
       "      <td>0</td>\n",
       "      <td>0</td>\n",
       "      <td>1</td>\n",
       "      <td>...</td>\n",
       "      <td>0</td>\n",
       "      <td>1</td>\n",
       "      <td>1</td>\n",
       "      <td>0</td>\n",
       "      <td>0</td>\n",
       "      <td>0</td>\n",
       "      <td>0</td>\n",
       "      <td>0</td>\n",
       "      <td>0</td>\n",
       "      <td>40-50</td>\n",
       "    </tr>\n",
       "    <tr>\n",
       "      <th>32274</th>\n",
       "      <td>30132</td>\n",
       "      <td>4.0</td>\n",
       "      <td>3000</td>\n",
       "      <td>13.85</td>\n",
       "      <td>1</td>\n",
       "      <td>0.10</td>\n",
       "      <td>14</td>\n",
       "      <td>0</td>\n",
       "      <td>0</td>\n",
       "      <td>1</td>\n",
       "      <td>...</td>\n",
       "      <td>0</td>\n",
       "      <td>0</td>\n",
       "      <td>0</td>\n",
       "      <td>1</td>\n",
       "      <td>0</td>\n",
       "      <td>0</td>\n",
       "      <td>0</td>\n",
       "      <td>0</td>\n",
       "      <td>1</td>\n",
       "      <td>30-40</td>\n",
       "    </tr>\n",
       "    <tr>\n",
       "      <th>32285</th>\n",
       "      <td>12000</td>\n",
       "      <td>5.0</td>\n",
       "      <td>4800</td>\n",
       "      <td>7.29</td>\n",
       "      <td>1</td>\n",
       "      <td>0.40</td>\n",
       "      <td>12</td>\n",
       "      <td>0</td>\n",
       "      <td>1</td>\n",
       "      <td>0</td>\n",
       "      <td>...</td>\n",
       "      <td>0</td>\n",
       "      <td>0</td>\n",
       "      <td>0</td>\n",
       "      <td>0</td>\n",
       "      <td>0</td>\n",
       "      <td>0</td>\n",
       "      <td>0</td>\n",
       "      <td>0</td>\n",
       "      <td>0</td>\n",
       "      <td>30-40</td>\n",
       "    </tr>\n",
       "    <tr>\n",
       "      <th>32328</th>\n",
       "      <td>18408</td>\n",
       "      <td>6.0</td>\n",
       "      <td>1000</td>\n",
       "      <td>14.65</td>\n",
       "      <td>1</td>\n",
       "      <td>0.05</td>\n",
       "      <td>20</td>\n",
       "      <td>0</td>\n",
       "      <td>0</td>\n",
       "      <td>1</td>\n",
       "      <td>...</td>\n",
       "      <td>1</td>\n",
       "      <td>0</td>\n",
       "      <td>0</td>\n",
       "      <td>1</td>\n",
       "      <td>0</td>\n",
       "      <td>0</td>\n",
       "      <td>0</td>\n",
       "      <td>0</td>\n",
       "      <td>1</td>\n",
       "      <td>50-60</td>\n",
       "    </tr>\n",
       "    <tr>\n",
       "      <th>32360</th>\n",
       "      <td>39996</td>\n",
       "      <td>8.0</td>\n",
       "      <td>3600</td>\n",
       "      <td>15.23</td>\n",
       "      <td>0</td>\n",
       "      <td>0.09</td>\n",
       "      <td>19</td>\n",
       "      <td>0</td>\n",
       "      <td>0</td>\n",
       "      <td>1</td>\n",
       "      <td>...</td>\n",
       "      <td>0</td>\n",
       "      <td>0</td>\n",
       "      <td>0</td>\n",
       "      <td>1</td>\n",
       "      <td>0</td>\n",
       "      <td>0</td>\n",
       "      <td>0</td>\n",
       "      <td>0</td>\n",
       "      <td>1</td>\n",
       "      <td>60-70</td>\n",
       "    </tr>\n",
       "    <tr>\n",
       "      <th>32453</th>\n",
       "      <td>32400</td>\n",
       "      <td>7.0</td>\n",
       "      <td>8575</td>\n",
       "      <td>7.51</td>\n",
       "      <td>0</td>\n",
       "      <td>0.26</td>\n",
       "      <td>18</td>\n",
       "      <td>0</td>\n",
       "      <td>0</td>\n",
       "      <td>1</td>\n",
       "      <td>...</td>\n",
       "      <td>0</td>\n",
       "      <td>0</td>\n",
       "      <td>0</td>\n",
       "      <td>0</td>\n",
       "      <td>0</td>\n",
       "      <td>0</td>\n",
       "      <td>0</td>\n",
       "      <td>0</td>\n",
       "      <td>0</td>\n",
       "      <td>50-60</td>\n",
       "    </tr>\n",
       "    <tr>\n",
       "      <th>32471</th>\n",
       "      <td>54000</td>\n",
       "      <td>6.0</td>\n",
       "      <td>10000</td>\n",
       "      <td>14.59</td>\n",
       "      <td>1</td>\n",
       "      <td>0.19</td>\n",
       "      <td>27</td>\n",
       "      <td>0</td>\n",
       "      <td>0</td>\n",
       "      <td>1</td>\n",
       "      <td>...</td>\n",
       "      <td>0</td>\n",
       "      <td>0</td>\n",
       "      <td>0</td>\n",
       "      <td>0</td>\n",
       "      <td>1</td>\n",
       "      <td>0</td>\n",
       "      <td>0</td>\n",
       "      <td>0</td>\n",
       "      <td>1</td>\n",
       "      <td>50-60</td>\n",
       "    </tr>\n",
       "  </tbody>\n",
       "</table>\n",
       "<p>10 rows × 23 columns</p>\n",
       "</div>"
      ],
      "text/plain": [
       "       person_income  person_emp_length  loan_amnt  loan_int_rate  \\\n",
       "32115          48000                7.0       3000           5.42   \n",
       "32139          21408                6.0       1500          11.12   \n",
       "32242          43439                5.0      15000          12.73   \n",
       "32264          51600                5.0       1500          11.86   \n",
       "32274          30132                4.0       3000          13.85   \n",
       "32285          12000                5.0       4800           7.29   \n",
       "32328          18408                6.0       1000          14.65   \n",
       "32360          39996                8.0       3600          15.23   \n",
       "32453          32400                7.0       8575           7.51   \n",
       "32471          54000                6.0      10000          14.59   \n",
       "\n",
       "       loan_status  loan_percent_income  cb_person_cred_hist_length  \\\n",
       "32115            0                 0.06                          16   \n",
       "32139            0                 0.07                          17   \n",
       "32242            1                 0.35                          15   \n",
       "32264            0                 0.03                          12   \n",
       "32274            1                 0.10                          14   \n",
       "32285            1                 0.40                          12   \n",
       "32328            1                 0.05                          20   \n",
       "32360            0                 0.09                          19   \n",
       "32453            0                 0.26                          18   \n",
       "32471            1                 0.19                          27   \n",
       "\n",
       "       person_home_ownership_OTHER  person_home_ownership_OWN  \\\n",
       "32115                            0                          0   \n",
       "32139                            0                          0   \n",
       "32242                            0                          0   \n",
       "32264                            0                          0   \n",
       "32274                            0                          0   \n",
       "32285                            0                          1   \n",
       "32328                            0                          0   \n",
       "32360                            0                          0   \n",
       "32453                            0                          0   \n",
       "32471                            0                          0   \n",
       "\n",
       "       person_home_ownership_RENT  ...  loan_intent_PERSONAL  \\\n",
       "32115                           0  ...                     0   \n",
       "32139                           0  ...                     0   \n",
       "32242                           1  ...                     0   \n",
       "32264                           1  ...                     0   \n",
       "32274                           1  ...                     0   \n",
       "32285                           0  ...                     0   \n",
       "32328                           1  ...                     1   \n",
       "32360                           1  ...                     0   \n",
       "32453                           1  ...                     0   \n",
       "32471                           1  ...                     0   \n",
       "\n",
       "       loan_intent_VENTURE  loan_grade_B  loan_grade_C  loan_grade_D  \\\n",
       "32115                    0             0             0             0   \n",
       "32139                    0             1             0             0   \n",
       "32242                    1             0             1             0   \n",
       "32264                    1             1             0             0   \n",
       "32274                    0             0             1             0   \n",
       "32285                    0             0             0             0   \n",
       "32328                    0             0             1             0   \n",
       "32360                    0             0             1             0   \n",
       "32453                    0             0             0             0   \n",
       "32471                    0             0             0             1   \n",
       "\n",
       "       loan_grade_E  loan_grade_F  loan_grade_G  cb_person_default_on_file_Y  \\\n",
       "32115             0             0             0                            0   \n",
       "32139             0             0             0                            0   \n",
       "32242             0             0             0                            1   \n",
       "32264             0             0             0                            0   \n",
       "32274             0             0             0                            1   \n",
       "32285             0             0             0                            0   \n",
       "32328             0             0             0                            1   \n",
       "32360             0             0             0                            1   \n",
       "32453             0             0             0                            0   \n",
       "32471             0             0             0                            1   \n",
       "\n",
       "       person_age_binned  \n",
       "32115              30-40  \n",
       "32139              30-40  \n",
       "32242              40-50  \n",
       "32264              40-50  \n",
       "32274              30-40  \n",
       "32285              30-40  \n",
       "32328              50-60  \n",
       "32360              60-70  \n",
       "32453              50-60  \n",
       "32471              50-60  \n",
       "\n",
       "[10 rows x 23 columns]"
      ]
     },
     "execution_count": 45,
     "metadata": {},
     "output_type": "execute_result"
    }
   ],
   "source": [
    "df.tail(10)"
   ]
  },
  {
   "cell_type": "code",
   "execution_count": 46,
   "id": "710d71ba",
   "metadata": {},
   "outputs": [
    {
     "name": "stdout",
     "output_type": "stream",
     "text": [
      "Minimum Employment Length in the dataset:  0.0\n",
      "Maximum Employment Length in the dataset:  41.0\n"
     ]
    }
   ],
   "source": [
    "print('Minimum Employment Length in the dataset: ', df['person_emp_length'].min())\n",
    "print('Maximum Employment Length in the dataset: ', df['person_emp_length'].max())"
   ]
  },
  {
   "cell_type": "code",
   "execution_count": 47,
   "id": "72df64bf",
   "metadata": {},
   "outputs": [],
   "source": [
    "bins = [0, 10, 20, 30, 40, 50]\n",
    "labels = ['0-10', '10-20', '20-30','30-40','40-50']\n",
    "df['person_emp_length_binned'] = pd.cut(df['person_emp_length'], bins=bins, labels=labels, include_lowest=True)"
   ]
  },
  {
   "cell_type": "code",
   "execution_count": 48,
   "id": "23ae457c",
   "metadata": {},
   "outputs": [],
   "source": [
    "# drop original person emp length feature\n",
    "df.drop(['person_emp_length'],axis=1, inplace=True)"
   ]
  },
  {
   "cell_type": "code",
   "execution_count": 49,
   "id": "29598700",
   "metadata": {
    "scrolled": true
   },
   "outputs": [
    {
     "data": {
      "text/html": [
       "<div>\n",
       "<style scoped>\n",
       "    .dataframe tbody tr th:only-of-type {\n",
       "        vertical-align: middle;\n",
       "    }\n",
       "\n",
       "    .dataframe tbody tr th {\n",
       "        vertical-align: top;\n",
       "    }\n",
       "\n",
       "    .dataframe thead th {\n",
       "        text-align: right;\n",
       "    }\n",
       "</style>\n",
       "<table border=\"1\" class=\"dataframe\">\n",
       "  <thead>\n",
       "    <tr style=\"text-align: right;\">\n",
       "      <th></th>\n",
       "      <th>person_income</th>\n",
       "      <th>loan_amnt</th>\n",
       "      <th>loan_int_rate</th>\n",
       "      <th>loan_status</th>\n",
       "      <th>loan_percent_income</th>\n",
       "      <th>cb_person_cred_hist_length</th>\n",
       "      <th>person_home_ownership_OTHER</th>\n",
       "      <th>person_home_ownership_OWN</th>\n",
       "      <th>person_home_ownership_RENT</th>\n",
       "      <th>loan_intent_EDUCATION</th>\n",
       "      <th>...</th>\n",
       "      <th>loan_intent_VENTURE</th>\n",
       "      <th>loan_grade_B</th>\n",
       "      <th>loan_grade_C</th>\n",
       "      <th>loan_grade_D</th>\n",
       "      <th>loan_grade_E</th>\n",
       "      <th>loan_grade_F</th>\n",
       "      <th>loan_grade_G</th>\n",
       "      <th>cb_person_default_on_file_Y</th>\n",
       "      <th>person_age_binned</th>\n",
       "      <th>person_emp_length_binned</th>\n",
       "    </tr>\n",
       "  </thead>\n",
       "  <tbody>\n",
       "    <tr>\n",
       "      <th>32115</th>\n",
       "      <td>48000</td>\n",
       "      <td>3000</td>\n",
       "      <td>5.42</td>\n",
       "      <td>0</td>\n",
       "      <td>0.06</td>\n",
       "      <td>16</td>\n",
       "      <td>0</td>\n",
       "      <td>0</td>\n",
       "      <td>0</td>\n",
       "      <td>0</td>\n",
       "      <td>...</td>\n",
       "      <td>0</td>\n",
       "      <td>0</td>\n",
       "      <td>0</td>\n",
       "      <td>0</td>\n",
       "      <td>0</td>\n",
       "      <td>0</td>\n",
       "      <td>0</td>\n",
       "      <td>0</td>\n",
       "      <td>30-40</td>\n",
       "      <td>0-10</td>\n",
       "    </tr>\n",
       "    <tr>\n",
       "      <th>32139</th>\n",
       "      <td>21408</td>\n",
       "      <td>1500</td>\n",
       "      <td>11.12</td>\n",
       "      <td>0</td>\n",
       "      <td>0.07</td>\n",
       "      <td>17</td>\n",
       "      <td>0</td>\n",
       "      <td>0</td>\n",
       "      <td>0</td>\n",
       "      <td>0</td>\n",
       "      <td>...</td>\n",
       "      <td>0</td>\n",
       "      <td>1</td>\n",
       "      <td>0</td>\n",
       "      <td>0</td>\n",
       "      <td>0</td>\n",
       "      <td>0</td>\n",
       "      <td>0</td>\n",
       "      <td>0</td>\n",
       "      <td>30-40</td>\n",
       "      <td>0-10</td>\n",
       "    </tr>\n",
       "    <tr>\n",
       "      <th>32242</th>\n",
       "      <td>43439</td>\n",
       "      <td>15000</td>\n",
       "      <td>12.73</td>\n",
       "      <td>1</td>\n",
       "      <td>0.35</td>\n",
       "      <td>15</td>\n",
       "      <td>0</td>\n",
       "      <td>0</td>\n",
       "      <td>1</td>\n",
       "      <td>0</td>\n",
       "      <td>...</td>\n",
       "      <td>1</td>\n",
       "      <td>0</td>\n",
       "      <td>1</td>\n",
       "      <td>0</td>\n",
       "      <td>0</td>\n",
       "      <td>0</td>\n",
       "      <td>0</td>\n",
       "      <td>1</td>\n",
       "      <td>40-50</td>\n",
       "      <td>0-10</td>\n",
       "    </tr>\n",
       "    <tr>\n",
       "      <th>32264</th>\n",
       "      <td>51600</td>\n",
       "      <td>1500</td>\n",
       "      <td>11.86</td>\n",
       "      <td>0</td>\n",
       "      <td>0.03</td>\n",
       "      <td>12</td>\n",
       "      <td>0</td>\n",
       "      <td>0</td>\n",
       "      <td>1</td>\n",
       "      <td>0</td>\n",
       "      <td>...</td>\n",
       "      <td>1</td>\n",
       "      <td>1</td>\n",
       "      <td>0</td>\n",
       "      <td>0</td>\n",
       "      <td>0</td>\n",
       "      <td>0</td>\n",
       "      <td>0</td>\n",
       "      <td>0</td>\n",
       "      <td>40-50</td>\n",
       "      <td>0-10</td>\n",
       "    </tr>\n",
       "    <tr>\n",
       "      <th>32274</th>\n",
       "      <td>30132</td>\n",
       "      <td>3000</td>\n",
       "      <td>13.85</td>\n",
       "      <td>1</td>\n",
       "      <td>0.10</td>\n",
       "      <td>14</td>\n",
       "      <td>0</td>\n",
       "      <td>0</td>\n",
       "      <td>1</td>\n",
       "      <td>0</td>\n",
       "      <td>...</td>\n",
       "      <td>0</td>\n",
       "      <td>0</td>\n",
       "      <td>1</td>\n",
       "      <td>0</td>\n",
       "      <td>0</td>\n",
       "      <td>0</td>\n",
       "      <td>0</td>\n",
       "      <td>1</td>\n",
       "      <td>30-40</td>\n",
       "      <td>0-10</td>\n",
       "    </tr>\n",
       "    <tr>\n",
       "      <th>32285</th>\n",
       "      <td>12000</td>\n",
       "      <td>4800</td>\n",
       "      <td>7.29</td>\n",
       "      <td>1</td>\n",
       "      <td>0.40</td>\n",
       "      <td>12</td>\n",
       "      <td>0</td>\n",
       "      <td>1</td>\n",
       "      <td>0</td>\n",
       "      <td>1</td>\n",
       "      <td>...</td>\n",
       "      <td>0</td>\n",
       "      <td>0</td>\n",
       "      <td>0</td>\n",
       "      <td>0</td>\n",
       "      <td>0</td>\n",
       "      <td>0</td>\n",
       "      <td>0</td>\n",
       "      <td>0</td>\n",
       "      <td>30-40</td>\n",
       "      <td>0-10</td>\n",
       "    </tr>\n",
       "    <tr>\n",
       "      <th>32328</th>\n",
       "      <td>18408</td>\n",
       "      <td>1000</td>\n",
       "      <td>14.65</td>\n",
       "      <td>1</td>\n",
       "      <td>0.05</td>\n",
       "      <td>20</td>\n",
       "      <td>0</td>\n",
       "      <td>0</td>\n",
       "      <td>1</td>\n",
       "      <td>0</td>\n",
       "      <td>...</td>\n",
       "      <td>0</td>\n",
       "      <td>0</td>\n",
       "      <td>1</td>\n",
       "      <td>0</td>\n",
       "      <td>0</td>\n",
       "      <td>0</td>\n",
       "      <td>0</td>\n",
       "      <td>1</td>\n",
       "      <td>50-60</td>\n",
       "      <td>0-10</td>\n",
       "    </tr>\n",
       "    <tr>\n",
       "      <th>32360</th>\n",
       "      <td>39996</td>\n",
       "      <td>3600</td>\n",
       "      <td>15.23</td>\n",
       "      <td>0</td>\n",
       "      <td>0.09</td>\n",
       "      <td>19</td>\n",
       "      <td>0</td>\n",
       "      <td>0</td>\n",
       "      <td>1</td>\n",
       "      <td>0</td>\n",
       "      <td>...</td>\n",
       "      <td>0</td>\n",
       "      <td>0</td>\n",
       "      <td>1</td>\n",
       "      <td>0</td>\n",
       "      <td>0</td>\n",
       "      <td>0</td>\n",
       "      <td>0</td>\n",
       "      <td>1</td>\n",
       "      <td>60-70</td>\n",
       "      <td>0-10</td>\n",
       "    </tr>\n",
       "    <tr>\n",
       "      <th>32453</th>\n",
       "      <td>32400</td>\n",
       "      <td>8575</td>\n",
       "      <td>7.51</td>\n",
       "      <td>0</td>\n",
       "      <td>0.26</td>\n",
       "      <td>18</td>\n",
       "      <td>0</td>\n",
       "      <td>0</td>\n",
       "      <td>1</td>\n",
       "      <td>0</td>\n",
       "      <td>...</td>\n",
       "      <td>0</td>\n",
       "      <td>0</td>\n",
       "      <td>0</td>\n",
       "      <td>0</td>\n",
       "      <td>0</td>\n",
       "      <td>0</td>\n",
       "      <td>0</td>\n",
       "      <td>0</td>\n",
       "      <td>50-60</td>\n",
       "      <td>0-10</td>\n",
       "    </tr>\n",
       "    <tr>\n",
       "      <th>32471</th>\n",
       "      <td>54000</td>\n",
       "      <td>10000</td>\n",
       "      <td>14.59</td>\n",
       "      <td>1</td>\n",
       "      <td>0.19</td>\n",
       "      <td>27</td>\n",
       "      <td>0</td>\n",
       "      <td>0</td>\n",
       "      <td>1</td>\n",
       "      <td>0</td>\n",
       "      <td>...</td>\n",
       "      <td>0</td>\n",
       "      <td>0</td>\n",
       "      <td>0</td>\n",
       "      <td>1</td>\n",
       "      <td>0</td>\n",
       "      <td>0</td>\n",
       "      <td>0</td>\n",
       "      <td>1</td>\n",
       "      <td>50-60</td>\n",
       "      <td>0-10</td>\n",
       "    </tr>\n",
       "  </tbody>\n",
       "</table>\n",
       "<p>10 rows × 23 columns</p>\n",
       "</div>"
      ],
      "text/plain": [
       "       person_income  loan_amnt  loan_int_rate  loan_status  \\\n",
       "32115          48000       3000           5.42            0   \n",
       "32139          21408       1500          11.12            0   \n",
       "32242          43439      15000          12.73            1   \n",
       "32264          51600       1500          11.86            0   \n",
       "32274          30132       3000          13.85            1   \n",
       "32285          12000       4800           7.29            1   \n",
       "32328          18408       1000          14.65            1   \n",
       "32360          39996       3600          15.23            0   \n",
       "32453          32400       8575           7.51            0   \n",
       "32471          54000      10000          14.59            1   \n",
       "\n",
       "       loan_percent_income  cb_person_cred_hist_length  \\\n",
       "32115                 0.06                          16   \n",
       "32139                 0.07                          17   \n",
       "32242                 0.35                          15   \n",
       "32264                 0.03                          12   \n",
       "32274                 0.10                          14   \n",
       "32285                 0.40                          12   \n",
       "32328                 0.05                          20   \n",
       "32360                 0.09                          19   \n",
       "32453                 0.26                          18   \n",
       "32471                 0.19                          27   \n",
       "\n",
       "       person_home_ownership_OTHER  person_home_ownership_OWN  \\\n",
       "32115                            0                          0   \n",
       "32139                            0                          0   \n",
       "32242                            0                          0   \n",
       "32264                            0                          0   \n",
       "32274                            0                          0   \n",
       "32285                            0                          1   \n",
       "32328                            0                          0   \n",
       "32360                            0                          0   \n",
       "32453                            0                          0   \n",
       "32471                            0                          0   \n",
       "\n",
       "       person_home_ownership_RENT  loan_intent_EDUCATION  ...  \\\n",
       "32115                           0                      0  ...   \n",
       "32139                           0                      0  ...   \n",
       "32242                           1                      0  ...   \n",
       "32264                           1                      0  ...   \n",
       "32274                           1                      0  ...   \n",
       "32285                           0                      1  ...   \n",
       "32328                           1                      0  ...   \n",
       "32360                           1                      0  ...   \n",
       "32453                           1                      0  ...   \n",
       "32471                           1                      0  ...   \n",
       "\n",
       "       loan_intent_VENTURE  loan_grade_B  loan_grade_C  loan_grade_D  \\\n",
       "32115                    0             0             0             0   \n",
       "32139                    0             1             0             0   \n",
       "32242                    1             0             1             0   \n",
       "32264                    1             1             0             0   \n",
       "32274                    0             0             1             0   \n",
       "32285                    0             0             0             0   \n",
       "32328                    0             0             1             0   \n",
       "32360                    0             0             1             0   \n",
       "32453                    0             0             0             0   \n",
       "32471                    0             0             0             1   \n",
       "\n",
       "       loan_grade_E  loan_grade_F  loan_grade_G  cb_person_default_on_file_Y  \\\n",
       "32115             0             0             0                            0   \n",
       "32139             0             0             0                            0   \n",
       "32242             0             0             0                            1   \n",
       "32264             0             0             0                            0   \n",
       "32274             0             0             0                            1   \n",
       "32285             0             0             0                            0   \n",
       "32328             0             0             0                            1   \n",
       "32360             0             0             0                            1   \n",
       "32453             0             0             0                            0   \n",
       "32471             0             0             0                            1   \n",
       "\n",
       "       person_age_binned  person_emp_length_binned  \n",
       "32115              30-40                      0-10  \n",
       "32139              30-40                      0-10  \n",
       "32242              40-50                      0-10  \n",
       "32264              40-50                      0-10  \n",
       "32274              30-40                      0-10  \n",
       "32285              30-40                      0-10  \n",
       "32328              50-60                      0-10  \n",
       "32360              60-70                      0-10  \n",
       "32453              50-60                      0-10  \n",
       "32471              50-60                      0-10  \n",
       "\n",
       "[10 rows x 23 columns]"
      ]
     },
     "execution_count": 49,
     "metadata": {},
     "output_type": "execute_result"
    }
   ],
   "source": [
    "df.tail(10)"
   ]
  },
  {
   "cell_type": "markdown",
   "id": "bf7da0cc",
   "metadata": {},
   "source": [
    "### ii) Exploratory Data Analysis after binning column person_age"
   ]
  },
  {
   "cell_type": "code",
   "execution_count": 50,
   "id": "da30267c",
   "metadata": {},
   "outputs": [
    {
     "data": {
      "text/plain": [
       "<matplotlib.legend.Legend at 0x2590dad20d0>"
      ]
     },
     "execution_count": 50,
     "metadata": {},
     "output_type": "execute_result"
    },
    {
     "data": {
      "image/png": "[encoded data removed]",
      "text/plain": [
       "<Figure size 1000x600 with 1 Axes>"
      ]
     },
     "metadata": {},
     "output_type": "display_data"
    }
   ],
   "source": [
    "plt.figure(figsize=(10,6))\n",
    "#The hue parameter adds a categorical variable to the plot by coloring the bars according to the different loan statuses.\n",
    "sns.countplot(x='person_age_binned', data=df, hue='loan_status')\n",
    "# plt.xticks(rotation=90)\n",
    "plt.xlabel('Person Age Bins')\n",
    "plt.ylabel('Number of Persons')\n",
    "plt.title(\"Plot of Total Persons vs Person Age and Loan Status\")\n",
    "# The loc parameter specifies the location of the legend on the plot, \n",
    "#in this case it is set to 'upper right'. Other possible values for loc include 'upper left', 'lower right', 'lower left', 'center', and more.\n",
    "plt.legend(loc='upper right', title='Loan Status')"
   ]
  },
  {
   "cell_type": "markdown",
   "id": "801a0965",
   "metadata": {},
   "source": [
    "### iii) Exploratory Data Analysis after binning column employment_length"
   ]
  },
  {
   "cell_type": "code",
   "execution_count": 51,
   "id": "a73148e8",
   "metadata": {},
   "outputs": [
    {
     "data": {
      "text/plain": [
       "<matplotlib.legend.Legend at 0x2590ccbbfa0>"
      ]
     },
     "execution_count": 51,
     "metadata": {},
     "output_type": "execute_result"
    },
    {
     "data": {
      "image/png": "[encoded data removed]",
      "text/plain": [
       "<Figure size 800x500 with 1 Axes>"
      ]
     },
     "metadata": {},
     "output_type": "display_data"
    }
   ],
   "source": [
    "plt.figure(figsize=(8,5))\n",
    "sns.countplot(x='person_emp_length_binned', data=df, hue='loan_status')\n",
    "# plt.xticks(rotation=90)\n",
    "plt.xlabel('Person Employment Length Bins')\n",
    "plt.ylabel('Number of Persons')\n",
    "plt.title(\"Plot of Total Persons vs Person Employment Length and Loan Status\")\n",
    "plt.legend(loc='upper right', title='Loan Status')"
   ]
  },
  {
   "cell_type": "markdown",
   "id": "2d2d8aff",
   "metadata": {},
   "source": [
    "### iv) Dummy Encoding or One-Hot Encoding for binned columns :\n",
    "- Both dummy encoding and one-hot encoding can be used to encode binned columns, but one-hot encoding is generally preferred because it avoids multicollinearity and is more widely used in machine learning. \n",
    "\n",
    "- We have applied One Hot Encoding to the following :\n",
    "1.  person_age_binned \n",
    "2. person_emp_length_binned"
   ]
  },
  {
   "cell_type": "code",
   "execution_count": 52,
   "id": "f6b86458",
   "metadata": {},
   "outputs": [
    {
     "data": {
      "text/plain": [
       "person_income                     int64\n",
       "loan_amnt                         int64\n",
       "loan_int_rate                   float64\n",
       "loan_status                       int64\n",
       "loan_percent_income             float64\n",
       "cb_person_cred_hist_length        int64\n",
       "person_home_ownership_OTHER       uint8\n",
       "person_home_ownership_OWN         uint8\n",
       "person_home_ownership_RENT        uint8\n",
       "loan_intent_EDUCATION             uint8\n",
       "loan_intent_HOMEIMPROVEMENT       uint8\n",
       "loan_intent_MEDICAL               uint8\n",
       "loan_intent_PERSONAL              uint8\n",
       "loan_intent_VENTURE               uint8\n",
       "loan_grade_B                      uint8\n",
       "loan_grade_C                      uint8\n",
       "loan_grade_D                      uint8\n",
       "loan_grade_E                      uint8\n",
       "loan_grade_F                      uint8\n",
       "loan_grade_G                      uint8\n",
       "cb_person_default_on_file_Y       uint8\n",
       "person_age_binned              category\n",
       "person_emp_length_binned       category\n",
       "dtype: object"
      ]
     },
     "execution_count": 52,
     "metadata": {},
     "output_type": "execute_result"
    }
   ],
   "source": [
    "df.dtypes"
   ]
  },
  {
   "cell_type": "code",
   "execution_count": 53,
   "id": "9d53e8ec",
   "metadata": {},
   "outputs": [],
   "source": [
    "categorical_columns = df.select_dtypes(['category']).columns"
   ]
  },
  {
   "cell_type": "code",
   "execution_count": 54,
   "id": "93cc41ce",
   "metadata": {},
   "outputs": [
    {
     "data": {
      "text/plain": [
       "Index(['person_age_binned', 'person_emp_length_binned'], dtype='object')"
      ]
     },
     "execution_count": 54,
     "metadata": {},
     "output_type": "execute_result"
    }
   ],
   "source": [
    "categorical_columns"
   ]
  },
  {
   "cell_type": "code",
   "execution_count": 55,
   "id": "429347a3",
   "metadata": {},
   "outputs": [],
   "source": [
    "df = pd.get_dummies(df, columns = categorical_columns, drop_first=True)"
   ]
  },
  {
   "cell_type": "code",
   "execution_count": 56,
   "id": "69820eeb",
   "metadata": {},
   "outputs": [
    {
     "data": {
      "text/html": [
       "<div>\n",
       "<style scoped>\n",
       "    .dataframe tbody tr th:only-of-type {\n",
       "        vertical-align: middle;\n",
       "    }\n",
       "\n",
       "    .dataframe tbody tr th {\n",
       "        vertical-align: top;\n",
       "    }\n",
       "\n",
       "    .dataframe thead th {\n",
       "        text-align: right;\n",
       "    }\n",
       "</style>\n",
       "<table border=\"1\" class=\"dataframe\">\n",
       "  <thead>\n",
       "    <tr style=\"text-align: right;\">\n",
       "      <th></th>\n",
       "      <th>person_income</th>\n",
       "      <th>loan_amnt</th>\n",
       "      <th>loan_int_rate</th>\n",
       "      <th>loan_status</th>\n",
       "      <th>loan_percent_income</th>\n",
       "      <th>cb_person_cred_hist_length</th>\n",
       "      <th>person_home_ownership_OTHER</th>\n",
       "      <th>person_home_ownership_OWN</th>\n",
       "      <th>person_home_ownership_RENT</th>\n",
       "      <th>loan_intent_EDUCATION</th>\n",
       "      <th>...</th>\n",
       "      <th>person_age_binned_40-50</th>\n",
       "      <th>person_age_binned_50-60</th>\n",
       "      <th>person_age_binned_60-70</th>\n",
       "      <th>person_age_binned_70-80</th>\n",
       "      <th>person_age_binned_80-90</th>\n",
       "      <th>person_age_binned_90-100</th>\n",
       "      <th>person_emp_length_binned_10-20</th>\n",
       "      <th>person_emp_length_binned_20-30</th>\n",
       "      <th>person_emp_length_binned_30-40</th>\n",
       "      <th>person_emp_length_binned_40-50</th>\n",
       "    </tr>\n",
       "  </thead>\n",
       "  <tbody>\n",
       "    <tr>\n",
       "      <th>32115</th>\n",
       "      <td>48000</td>\n",
       "      <td>3000</td>\n",
       "      <td>5.42</td>\n",
       "      <td>0</td>\n",
       "      <td>0.06</td>\n",
       "      <td>16</td>\n",
       "      <td>0</td>\n",
       "      <td>0</td>\n",
       "      <td>0</td>\n",
       "      <td>0</td>\n",
       "      <td>...</td>\n",
       "      <td>0</td>\n",
       "      <td>0</td>\n",
       "      <td>0</td>\n",
       "      <td>0</td>\n",
       "      <td>0</td>\n",
       "      <td>0</td>\n",
       "      <td>0</td>\n",
       "      <td>0</td>\n",
       "      <td>0</td>\n",
       "      <td>0</td>\n",
       "    </tr>\n",
       "    <tr>\n",
       "      <th>32139</th>\n",
       "      <td>21408</td>\n",
       "      <td>1500</td>\n",
       "      <td>11.12</td>\n",
       "      <td>0</td>\n",
       "      <td>0.07</td>\n",
       "      <td>17</td>\n",
       "      <td>0</td>\n",
       "      <td>0</td>\n",
       "      <td>0</td>\n",
       "      <td>0</td>\n",
       "      <td>...</td>\n",
       "      <td>0</td>\n",
       "      <td>0</td>\n",
       "      <td>0</td>\n",
       "      <td>0</td>\n",
       "      <td>0</td>\n",
       "      <td>0</td>\n",
       "      <td>0</td>\n",
       "      <td>0</td>\n",
       "      <td>0</td>\n",
       "      <td>0</td>\n",
       "    </tr>\n",
       "    <tr>\n",
       "      <th>32242</th>\n",
       "      <td>43439</td>\n",
       "      <td>15000</td>\n",
       "      <td>12.73</td>\n",
       "      <td>1</td>\n",
       "      <td>0.35</td>\n",
       "      <td>15</td>\n",
       "      <td>0</td>\n",
       "      <td>0</td>\n",
       "      <td>1</td>\n",
       "      <td>0</td>\n",
       "      <td>...</td>\n",
       "      <td>1</td>\n",
       "      <td>0</td>\n",
       "      <td>0</td>\n",
       "      <td>0</td>\n",
       "      <td>0</td>\n",
       "      <td>0</td>\n",
       "      <td>0</td>\n",
       "      <td>0</td>\n",
       "      <td>0</td>\n",
       "      <td>0</td>\n",
       "    </tr>\n",
       "    <tr>\n",
       "      <th>32264</th>\n",
       "      <td>51600</td>\n",
       "      <td>1500</td>\n",
       "      <td>11.86</td>\n",
       "      <td>0</td>\n",
       "      <td>0.03</td>\n",
       "      <td>12</td>\n",
       "      <td>0</td>\n",
       "      <td>0</td>\n",
       "      <td>1</td>\n",
       "      <td>0</td>\n",
       "      <td>...</td>\n",
       "      <td>1</td>\n",
       "      <td>0</td>\n",
       "      <td>0</td>\n",
       "      <td>0</td>\n",
       "      <td>0</td>\n",
       "      <td>0</td>\n",
       "      <td>0</td>\n",
       "      <td>0</td>\n",
       "      <td>0</td>\n",
       "      <td>0</td>\n",
       "    </tr>\n",
       "    <tr>\n",
       "      <th>32274</th>\n",
       "      <td>30132</td>\n",
       "      <td>3000</td>\n",
       "      <td>13.85</td>\n",
       "      <td>1</td>\n",
       "      <td>0.10</td>\n",
       "      <td>14</td>\n",
       "      <td>0</td>\n",
       "      <td>0</td>\n",
       "      <td>1</td>\n",
       "      <td>0</td>\n",
       "      <td>...</td>\n",
       "      <td>0</td>\n",
       "      <td>0</td>\n",
       "      <td>0</td>\n",
       "      <td>0</td>\n",
       "      <td>0</td>\n",
       "      <td>0</td>\n",
       "      <td>0</td>\n",
       "      <td>0</td>\n",
       "      <td>0</td>\n",
       "      <td>0</td>\n",
       "    </tr>\n",
       "    <tr>\n",
       "      <th>32285</th>\n",
       "      <td>12000</td>\n",
       "      <td>4800</td>\n",
       "      <td>7.29</td>\n",
       "      <td>1</td>\n",
       "      <td>0.40</td>\n",
       "      <td>12</td>\n",
       "      <td>0</td>\n",
       "      <td>1</td>\n",
       "      <td>0</td>\n",
       "      <td>1</td>\n",
       "      <td>...</td>\n",
       "      <td>0</td>\n",
       "      <td>0</td>\n",
       "      <td>0</td>\n",
       "      <td>0</td>\n",
       "      <td>0</td>\n",
       "      <td>0</td>\n",
       "      <td>0</td>\n",
       "      <td>0</td>\n",
       "      <td>0</td>\n",
       "      <td>0</td>\n",
       "    </tr>\n",
       "    <tr>\n",
       "      <th>32328</th>\n",
       "      <td>18408</td>\n",
       "      <td>1000</td>\n",
       "      <td>14.65</td>\n",
       "      <td>1</td>\n",
       "      <td>0.05</td>\n",
       "      <td>20</td>\n",
       "      <td>0</td>\n",
       "      <td>0</td>\n",
       "      <td>1</td>\n",
       "      <td>0</td>\n",
       "      <td>...</td>\n",
       "      <td>0</td>\n",
       "      <td>1</td>\n",
       "      <td>0</td>\n",
       "      <td>0</td>\n",
       "      <td>0</td>\n",
       "      <td>0</td>\n",
       "      <td>0</td>\n",
       "      <td>0</td>\n",
       "      <td>0</td>\n",
       "      <td>0</td>\n",
       "    </tr>\n",
       "    <tr>\n",
       "      <th>32360</th>\n",
       "      <td>39996</td>\n",
       "      <td>3600</td>\n",
       "      <td>15.23</td>\n",
       "      <td>0</td>\n",
       "      <td>0.09</td>\n",
       "      <td>19</td>\n",
       "      <td>0</td>\n",
       "      <td>0</td>\n",
       "      <td>1</td>\n",
       "      <td>0</td>\n",
       "      <td>...</td>\n",
       "      <td>0</td>\n",
       "      <td>0</td>\n",
       "      <td>1</td>\n",
       "      <td>0</td>\n",
       "      <td>0</td>\n",
       "      <td>0</td>\n",
       "      <td>0</td>\n",
       "      <td>0</td>\n",
       "      <td>0</td>\n",
       "      <td>0</td>\n",
       "    </tr>\n",
       "    <tr>\n",
       "      <th>32453</th>\n",
       "      <td>32400</td>\n",
       "      <td>8575</td>\n",
       "      <td>7.51</td>\n",
       "      <td>0</td>\n",
       "      <td>0.26</td>\n",
       "      <td>18</td>\n",
       "      <td>0</td>\n",
       "      <td>0</td>\n",
       "      <td>1</td>\n",
       "      <td>0</td>\n",
       "      <td>...</td>\n",
       "      <td>0</td>\n",
       "      <td>1</td>\n",
       "      <td>0</td>\n",
       "      <td>0</td>\n",
       "      <td>0</td>\n",
       "      <td>0</td>\n",
       "      <td>0</td>\n",
       "      <td>0</td>\n",
       "      <td>0</td>\n",
       "      <td>0</td>\n",
       "    </tr>\n",
       "    <tr>\n",
       "      <th>32471</th>\n",
       "      <td>54000</td>\n",
       "      <td>10000</td>\n",
       "      <td>14.59</td>\n",
       "      <td>1</td>\n",
       "      <td>0.19</td>\n",
       "      <td>27</td>\n",
       "      <td>0</td>\n",
       "      <td>0</td>\n",
       "      <td>1</td>\n",
       "      <td>0</td>\n",
       "      <td>...</td>\n",
       "      <td>0</td>\n",
       "      <td>1</td>\n",
       "      <td>0</td>\n",
       "      <td>0</td>\n",
       "      <td>0</td>\n",
       "      <td>0</td>\n",
       "      <td>0</td>\n",
       "      <td>0</td>\n",
       "      <td>0</td>\n",
       "      <td>0</td>\n",
       "    </tr>\n",
       "  </tbody>\n",
       "</table>\n",
       "<p>10 rows × 32 columns</p>\n",
       "</div>"
      ],
      "text/plain": [
       "       person_income  loan_amnt  loan_int_rate  loan_status  \\\n",
       "32115          48000       3000           5.42            0   \n",
       "32139          21408       1500          11.12            0   \n",
       "32242          43439      15000          12.73            1   \n",
       "32264          51600       1500          11.86            0   \n",
       "32274          30132       3000          13.85            1   \n",
       "32285          12000       4800           7.29            1   \n",
       "32328          18408       1000          14.65            1   \n",
       "32360          39996       3600          15.23            0   \n",
       "32453          32400       8575           7.51            0   \n",
       "32471          54000      10000          14.59            1   \n",
       "\n",
       "       loan_percent_income  cb_person_cred_hist_length  \\\n",
       "32115                 0.06                          16   \n",
       "32139                 0.07                          17   \n",
       "32242                 0.35                          15   \n",
       "32264                 0.03                          12   \n",
       "32274                 0.10                          14   \n",
       "32285                 0.40                          12   \n",
       "32328                 0.05                          20   \n",
       "32360                 0.09                          19   \n",
       "32453                 0.26                          18   \n",
       "32471                 0.19                          27   \n",
       "\n",
       "       person_home_ownership_OTHER  person_home_ownership_OWN  \\\n",
       "32115                            0                          0   \n",
       "32139                            0                          0   \n",
       "32242                            0                          0   \n",
       "32264                            0                          0   \n",
       "32274                            0                          0   \n",
       "32285                            0                          1   \n",
       "32328                            0                          0   \n",
       "32360                            0                          0   \n",
       "32453                            0                          0   \n",
       "32471                            0                          0   \n",
       "\n",
       "       person_home_ownership_RENT  loan_intent_EDUCATION  ...  \\\n",
       "32115                           0                      0  ...   \n",
       "32139                           0                      0  ...   \n",
       "32242                           1                      0  ...   \n",
       "32264                           1                      0  ...   \n",
       "32274                           1                      0  ...   \n",
       "32285                           0                      1  ...   \n",
       "32328                           1                      0  ...   \n",
       "32360                           1                      0  ...   \n",
       "32453                           1                      0  ...   \n",
       "32471                           1                      0  ...   \n",
       "\n",
       "       person_age_binned_40-50  person_age_binned_50-60  \\\n",
       "32115                        0                        0   \n",
       "32139                        0                        0   \n",
       "32242                        1                        0   \n",
       "32264                        1                        0   \n",
       "32274                        0                        0   \n",
       "32285                        0                        0   \n",
       "32328                        0                        1   \n",
       "32360                        0                        0   \n",
       "32453                        0                        1   \n",
       "32471                        0                        1   \n",
       "\n",
       "       person_age_binned_60-70  person_age_binned_70-80  \\\n",
       "32115                        0                        0   \n",
       "32139                        0                        0   \n",
       "32242                        0                        0   \n",
       "32264                        0                        0   \n",
       "32274                        0                        0   \n",
       "32285                        0                        0   \n",
       "32328                        0                        0   \n",
       "32360                        1                        0   \n",
       "32453                        0                        0   \n",
       "32471                        0                        0   \n",
       "\n",
       "       person_age_binned_80-90  person_age_binned_90-100  \\\n",
       "32115                        0                         0   \n",
       "32139                        0                         0   \n",
       "32242                        0                         0   \n",
       "32264                        0                         0   \n",
       "32274                        0                         0   \n",
       "32285                        0                         0   \n",
       "32328                        0                         0   \n",
       "32360                        0                         0   \n",
       "32453                        0                         0   \n",
       "32471                        0                         0   \n",
       "\n",
       "       person_emp_length_binned_10-20  person_emp_length_binned_20-30  \\\n",
       "32115                               0                               0   \n",
       "32139                               0                               0   \n",
       "32242                               0                               0   \n",
       "32264                               0                               0   \n",
       "32274                               0                               0   \n",
       "32285                               0                               0   \n",
       "32328                               0                               0   \n",
       "32360                               0                               0   \n",
       "32453                               0                               0   \n",
       "32471                               0                               0   \n",
       "\n",
       "       person_emp_length_binned_30-40  person_emp_length_binned_40-50  \n",
       "32115                               0                               0  \n",
       "32139                               0                               0  \n",
       "32242                               0                               0  \n",
       "32264                               0                               0  \n",
       "32274                               0                               0  \n",
       "32285                               0                               0  \n",
       "32328                               0                               0  \n",
       "32360                               0                               0  \n",
       "32453                               0                               0  \n",
       "32471                               0                               0  \n",
       "\n",
       "[10 rows x 32 columns]"
      ]
     },
     "execution_count": 56,
     "metadata": {},
     "output_type": "execute_result"
    }
   ],
   "source": [
    "df.tail(10)"
   ]
  },
  {
   "cell_type": "code",
   "execution_count": 57,
   "id": "45a71f4e",
   "metadata": {},
   "outputs": [
    {
     "data": {
      "text/plain": [
       "person_income                       int64\n",
       "loan_amnt                           int64\n",
       "loan_int_rate                     float64\n",
       "loan_status                         int64\n",
       "loan_percent_income               float64\n",
       "cb_person_cred_hist_length          int64\n",
       "person_home_ownership_OTHER         uint8\n",
       "person_home_ownership_OWN           uint8\n",
       "person_home_ownership_RENT          uint8\n",
       "loan_intent_EDUCATION               uint8\n",
       "loan_intent_HOMEIMPROVEMENT         uint8\n",
       "loan_intent_MEDICAL                 uint8\n",
       "loan_intent_PERSONAL                uint8\n",
       "loan_intent_VENTURE                 uint8\n",
       "loan_grade_B                        uint8\n",
       "loan_grade_C                        uint8\n",
       "loan_grade_D                        uint8\n",
       "loan_grade_E                        uint8\n",
       "loan_grade_F                        uint8\n",
       "loan_grade_G                        uint8\n",
       "cb_person_default_on_file_Y         uint8\n",
       "person_age_binned_30-40             uint8\n",
       "person_age_binned_40-50             uint8\n",
       "person_age_binned_50-60             uint8\n",
       "person_age_binned_60-70             uint8\n",
       "person_age_binned_70-80             uint8\n",
       "person_age_binned_80-90             uint8\n",
       "person_age_binned_90-100            uint8\n",
       "person_emp_length_binned_10-20      uint8\n",
       "person_emp_length_binned_20-30      uint8\n",
       "person_emp_length_binned_30-40      uint8\n",
       "person_emp_length_binned_40-50      uint8\n",
       "dtype: object"
      ]
     },
     "execution_count": 57,
     "metadata": {},
     "output_type": "execute_result"
    }
   ],
   "source": [
    "df.dtypes"
   ]
  },
  {
   "cell_type": "code",
   "execution_count": 58,
   "id": "0f4d9541",
   "metadata": {
    "scrolled": true
   },
   "outputs": [
    {
     "data": {
      "text/plain": [
       "(32574, 32)"
      ]
     },
     "execution_count": 58,
     "metadata": {},
     "output_type": "execute_result"
    }
   ],
   "source": [
    "df.shape"
   ]
  },
  {
   "cell_type": "markdown",
   "id": "1d6395bc",
   "metadata": {},
   "source": [
    "# 3) Model Building - Phase 1\n",
    "- Here, we have performed some pre-processing steps required for all of our machine learning models\n",
    "\n",
    "- We have performed a train-test split on our training dataset using 70-30 as the size. This will help prevent our models from overfitting and we will also be able to perform hyper-parameter tuning on training set\n",
    "\n",
    "Models used are as below: \n",
    "- Logistic Regression\n",
    "- Decision Tree\n",
    "- Random Forest\n"
   ]
  },
  {
   "cell_type": "markdown",
   "id": "187ceca4",
   "metadata": {},
   "source": [
    "### Evaluation Metric: Recall\n",
    "- For credit risk classification problem statement, it is extremely important for our models to reduce the number of 'false-negatives'. We do not want our models to predict a customer as 'non defaulter' when that customer actually 'is a defaulter'"
   ]
  },
  {
   "cell_type": "markdown",
   "id": "fd1cd656",
   "metadata": {},
   "source": [
    "### 3a) Logistic Regression"
   ]
  },
  {
   "cell_type": "code",
   "execution_count": 59,
   "id": "fd4eadb3",
   "metadata": {},
   "outputs": [
    {
     "name": "stdout",
     "output_type": "stream",
     "text": [
      "[-2.29022612e-09] [[-4.07846364e-05  1.08781500e-04  9.29956831e-08  2.57902988e-09\n",
      "  -9.17844794e-09  8.17898218e-11 -4.04161804e-09  7.94799612e-09\n",
      "  -2.98305674e-09  2.03053491e-09  1.18704117e-09 -1.35434723e-09\n",
      "  -3.81915528e-09 -5.64205110e-09 -1.43049219e-09  1.07639989e-08\n",
      "   3.56095613e-09  1.04823365e-09  4.27606534e-10  7.28991466e-09\n",
      "  -5.37541264e-10  2.12865599e-11  8.53882512e-11  5.20718987e-11\n",
      "  -1.18116598e-11 -1.24211238e-12 -4.67813938e-12 -3.81991014e-10\n",
      "   4.20662935e-11  7.25265463e-12 -2.93298370e-12]]\n"
     ]
    }
   ],
   "source": [
    "x = [col for col in df.columns if col != 'loan_status']\n",
    "\n",
    "X_train, X_test, Y_train, Y_test = train_test_split(df[x], df['loan_status'], test_size=0.30, random_state=9)\n",
    "\n",
    "lg=LogisticRegression()\n",
    "lg.fit(X_train,Y_train)\n",
    "\n",
    "print(lg.intercept_, lg.coef_)"
   ]
  },
  {
   "cell_type": "code",
   "execution_count": 60,
   "id": "75db8689",
   "metadata": {},
   "outputs": [
    {
     "name": "stdout",
     "output_type": "stream",
     "text": [
      "Accuracy of Logistic Regression: 0.8084518571574747\n",
      "Precision of Logistic Regression: 0.7207392197125256\n",
      "Recall of Logistic Regression: 0.16818399616674654\n",
      "F1 Score of Logistic Regression: 0.27272727272727276\n"
     ]
    }
   ],
   "source": [
    "pred = lg.predict(X_test)\n",
    "actual = Y_test\n",
    "accuracy = accuracy_score(actual,pred)\n",
    "precision = precision_score(actual,pred)\n",
    "recall = recall_score(actual,pred)\n",
    "f1 = f1_score(actual, pred)\n",
    "print('Accuracy of Logistic Regression: ' + str(accuracy))\n",
    "print('Precision of Logistic Regression: ' + str(precision))\n",
    "print('Recall of Logistic Regression: ' + str(recall))\n",
    "print('F1 Score of Logistic Regression: ' + str(f1))"
   ]
  },
  {
   "cell_type": "code",
   "execution_count": 61,
   "id": "d0602900",
   "metadata": {},
   "outputs": [
    {
     "data": {
      "text/plain": [
       "array([[7550,  136],\n",
       "       [1736,  351]], dtype=int64)"
      ]
     },
     "execution_count": 61,
     "metadata": {},
     "output_type": "execute_result"
    }
   ],
   "source": [
    "conf_matrix = confusion_matrix(actual,pred)\n",
    "conf_matrix"
   ]
  },
  {
   "cell_type": "markdown",
   "id": "3658d0c5",
   "metadata": {},
   "source": [
    "### 3b) Decision Tree"
   ]
  },
  {
   "cell_type": "code",
   "execution_count": 62,
   "id": "9958295f",
   "metadata": {},
   "outputs": [
    {
     "data": {
      "text/plain": [
       "DecisionTreeClassifier(max_depth=4)"
      ]
     },
     "execution_count": 62,
     "metadata": {},
     "output_type": "execute_result"
    }
   ],
   "source": [
    "dt_clf = DecisionTreeClassifier(max_depth=4)\n",
    "dt_clf.fit(X_train, Y_train)"
   ]
  },
  {
   "cell_type": "code",
   "execution_count": 63,
   "id": "9db088c2",
   "metadata": {},
   "outputs": [
    {
     "name": "stdout",
     "output_type": "stream",
     "text": [
      "Accuracy of Decision Tree: 0.8892868106006344\n",
      "Precision of Decision Tree: 0.9088689991863304\n",
      "Recall of Decision Tree: 0.5352180162913273\n",
      "F1 Score of Decision Tree: 0.6737032569360676\n"
     ]
    }
   ],
   "source": [
    "pred = dt_clf.predict(X_test)\n",
    "actual = Y_test\n",
    "accuracy = accuracy_score(actual,pred)\n",
    "precision = precision_score(actual,pred)\n",
    "recall = recall_score(actual,pred)\n",
    "f1 = f1_score(actual, pred)\n",
    "print('Accuracy of Decision Tree: ' + str(accuracy))\n",
    "print('Precision of Decision Tree: ' + str(precision))\n",
    "print('Recall of Decision Tree: ' + str(recall))\n",
    "print('F1 Score of Decision Tree: ' + str(f1))"
   ]
  },
  {
   "cell_type": "code",
   "execution_count": 64,
   "id": "6d298480",
   "metadata": {},
   "outputs": [
    {
     "data": {
      "text/plain": [
       "array([[7574,  112],\n",
       "       [ 970, 1117]], dtype=int64)"
      ]
     },
     "execution_count": 64,
     "metadata": {},
     "output_type": "execute_result"
    }
   ],
   "source": [
    "conf_matrix = confusion_matrix(actual,pred)\n",
    "conf_matrix"
   ]
  },
  {
   "cell_type": "markdown",
   "id": "676201b7",
   "metadata": {},
   "source": [
    "### 3c) Random Forest"
   ]
  },
  {
   "cell_type": "code",
   "execution_count": 65,
   "id": "0f8a40d1",
   "metadata": {},
   "outputs": [
    {
     "data": {
      "text/plain": [
       "RandomForestClassifier(random_state=42)"
      ]
     },
     "execution_count": 65,
     "metadata": {},
     "output_type": "execute_result"
    }
   ],
   "source": [
    "rf_clf = RandomForestClassifier(n_estimators=100, random_state=42)\n",
    "rf_clf.fit(X_train, Y_train)"
   ]
  },
  {
   "cell_type": "code",
   "execution_count": 66,
   "id": "e0a94069",
   "metadata": {},
   "outputs": [
    {
     "name": "stdout",
     "output_type": "stream",
     "text": [
      "Accuracy of Random Forest: 0.9210068556226337\n",
      "Precision of Random Forest: 0.8916021441334128\n",
      "Recall of Random Forest: 0.7172975563009104\n",
      "F1 Score of Random Forest: 0.7950079660116836\n"
     ]
    }
   ],
   "source": [
    "pred = rf_clf.predict(X_test)\n",
    "actual = Y_test\n",
    "accuracy = accuracy_score(actual,pred)\n",
    "precision = precision_score(actual,pred)\n",
    "recall = recall_score(actual,pred)\n",
    "f1 = f1_score(actual, pred)\n",
    "print('Accuracy of Random Forest: ' + str(accuracy))\n",
    "print('Precision of Random Forest: ' + str(precision))\n",
    "print('Recall of Random Forest: ' + str(recall))\n",
    "print('F1 Score of Random Forest: ' + str(f1))"
   ]
  },
  {
   "cell_type": "code",
   "execution_count": 67,
   "id": "8cfe7457",
   "metadata": {},
   "outputs": [
    {
     "data": {
      "text/plain": [
       "array([[7504,  182],\n",
       "       [ 590, 1497]], dtype=int64)"
      ]
     },
     "execution_count": 67,
     "metadata": {},
     "output_type": "execute_result"
    }
   ],
   "source": [
    "conf_matrix = confusion_matrix(actual,pred)\n",
    "conf_matrix"
   ]
  },
  {
   "cell_type": "markdown",
   "id": "d2d73bc8",
   "metadata": {},
   "source": [
    "###  Summary of model performance"
   ]
  },
  {
   "cell_type": "code",
   "execution_count": 69,
   "id": "b5fa1a0a",
   "metadata": {},
   "outputs": [],
   "source": [
    "# Creating a summary table for the model names, their recall, accuracy scores, Precision and F1 Score\n",
    "best_models1 = pd.DataFrame({\"Classification Model\":[\"Logistic Regression\",\"Decision Tree\",\"Random Forest\",],\n",
    "                            \"Accuracy\":[80.84,88.92,92.10],\n",
    "                            \"Precision\": [72.07, 90.88,89.16],\n",
    "                            \"Recall\":[16.81,53.52,71.72],\n",
    "                            \"F1 Score\": [27.27, 67.37, 79.50]\n",
    "                           })"
   ]
  },
  {
   "cell_type": "code",
   "execution_count": 70,
   "id": "78fb5ec6",
   "metadata": {
    "scrolled": true
   },
   "outputs": [
    {
     "data": {
      "text/html": [
       "<div>\n",
       "<style scoped>\n",
       "    .dataframe tbody tr th:only-of-type {\n",
       "        vertical-align: middle;\n",
       "    }\n",
       "\n",
       "    .dataframe tbody tr th {\n",
       "        vertical-align: top;\n",
       "    }\n",
       "\n",
       "    .dataframe thead th {\n",
       "        text-align: right;\n",
       "    }\n",
       "</style>\n",
       "<table border=\"1\" class=\"dataframe\">\n",
       "  <thead>\n",
       "    <tr style=\"text-align: right;\">\n",
       "      <th></th>\n",
       "      <th>Classification Model</th>\n",
       "      <th>Accuracy</th>\n",
       "      <th>Precision</th>\n",
       "      <th>Recall</th>\n",
       "      <th>F1 Score</th>\n",
       "    </tr>\n",
       "  </thead>\n",
       "  <tbody>\n",
       "    <tr>\n",
       "      <th>2</th>\n",
       "      <td>Random Forest</td>\n",
       "      <td>92.10</td>\n",
       "      <td>89.16</td>\n",
       "      <td>71.72</td>\n",
       "      <td>79.50</td>\n",
       "    </tr>\n",
       "    <tr>\n",
       "      <th>1</th>\n",
       "      <td>Decision Tree</td>\n",
       "      <td>88.92</td>\n",
       "      <td>90.88</td>\n",
       "      <td>53.52</td>\n",
       "      <td>67.37</td>\n",
       "    </tr>\n",
       "    <tr>\n",
       "      <th>0</th>\n",
       "      <td>Logistic Regression</td>\n",
       "      <td>80.84</td>\n",
       "      <td>72.07</td>\n",
       "      <td>16.81</td>\n",
       "      <td>27.27</td>\n",
       "    </tr>\n",
       "  </tbody>\n",
       "</table>\n",
       "</div>"
      ],
      "text/plain": [
       "  Classification Model  Accuracy  Precision  Recall  F1 Score\n",
       "2        Random Forest     92.10      89.16   71.72     79.50\n",
       "1        Decision Tree     88.92      90.88   53.52     67.37\n",
       "0  Logistic Regression     80.84      72.07   16.81     27.27"
      ]
     },
     "execution_count": 70,
     "metadata": {},
     "output_type": "execute_result"
    }
   ],
   "source": [
    "# Printing the best_models summary table sorted by Recall\n",
    "best_models1.sort_values(by=\"Recall\",ascending=False)"
   ]
  },
  {
   "cell_type": "markdown",
   "id": "c74ec2cf",
   "metadata": {},
   "source": [
    "### Conclusion : We can see that except random forest, other machine learning models do not have good recall score. So to fix this, we are going to handle the imbalance in our data set with respect to target variable loan-status."
   ]
  },
  {
   "cell_type": "markdown",
   "id": "b34eb7be",
   "metadata": {},
   "source": [
    "## 4) Under Sampling: Handling Imbalanced Dataset Issue\n",
    "- Loan Status target feature in the dataset is highly imbalanced. Before training ML models, we need to handle this imbalanced dataset problem using undersampling techniques\n",
    "- We have brought down the count of overrepresented classes to match the count of underrepresented classes using a random sample which has been extracted from the original dataset"
   ]
  },
  {
   "cell_type": "code",
   "execution_count": 71,
   "id": "ceef76ea",
   "metadata": {},
   "outputs": [
    {
     "data": {
      "text/plain": [
       "Text(0.5, 1.0, 'Distribution of Loan Status for our dataset')"
      ]
     },
     "execution_count": 71,
     "metadata": {},
     "output_type": "execute_result"
    },
    {
     "data": {
      "image/png": "[encoded data removed]",
      "text/plain": [
       "<Figure size 640x480 with 1 Axes>"
      ]
     },
     "metadata": {},
     "output_type": "display_data"
    }
   ],
   "source": [
    "sns.countplot(x=\"loan_status\", data=df).set_title('Distribution of Loan Status for our dataset')"
   ]
  },
  {
   "cell_type": "code",
   "execution_count": 72,
   "id": "94a7acff",
   "metadata": {},
   "outputs": [
    {
     "data": {
      "text/plain": [
       "0    25467\n",
       "1     7107\n",
       "Name: loan_status, dtype: int64"
      ]
     },
     "execution_count": 72,
     "metadata": {},
     "output_type": "execute_result"
    }
   ],
   "source": [
    "df['loan_status'].value_counts()"
   ]
  },
  {
   "cell_type": "code",
   "execution_count": 73,
   "id": "f37874e0",
   "metadata": {},
   "outputs": [
    {
     "data": {
      "text/plain": [
       "0    78.181986\n",
       "1    21.818014\n",
       "Name: loan_status, dtype: float64"
      ]
     },
     "execution_count": 73,
     "metadata": {},
     "output_type": "execute_result"
    }
   ],
   "source": [
    "# normalize=True --> This normalizes the counts to represent proportions which means dividing each value by total number of observations\n",
    "df['loan_status'].value_counts(normalize=True) * 100"
   ]
  },
  {
   "cell_type": "code",
   "execution_count": 74,
   "id": "c2d93296",
   "metadata": {},
   "outputs": [],
   "source": [
    "# .apply(lambda x: x.sample(n=7107, random_state=1)) --> This applies a function to each group that takes a \n",
    "# random sample of 7107 rows from that group (using a fixed random seed of 1).\n",
    "# .reset_index(drop = True)--> This resets the index of the resulting DataFrame so that it starts from 0 and drops the previous group labels.\n",
    "sample_df = df.groupby('loan_status').apply(lambda x: x.sample(n=7107, random_state=1)).reset_index(drop = True)"
   ]
  },
  {
   "cell_type": "code",
   "execution_count": 75,
   "id": "8b83434e",
   "metadata": {},
   "outputs": [
    {
     "data": {
      "text/html": [
       "<div>\n",
       "<style scoped>\n",
       "    .dataframe tbody tr th:only-of-type {\n",
       "        vertical-align: middle;\n",
       "    }\n",
       "\n",
       "    .dataframe tbody tr th {\n",
       "        vertical-align: top;\n",
       "    }\n",
       "\n",
       "    .dataframe thead th {\n",
       "        text-align: right;\n",
       "    }\n",
       "</style>\n",
       "<table border=\"1\" class=\"dataframe\">\n",
       "  <thead>\n",
       "    <tr style=\"text-align: right;\">\n",
       "      <th></th>\n",
       "      <th>person_income</th>\n",
       "      <th>loan_amnt</th>\n",
       "      <th>loan_int_rate</th>\n",
       "      <th>loan_status</th>\n",
       "      <th>loan_percent_income</th>\n",
       "      <th>cb_person_cred_hist_length</th>\n",
       "      <th>person_home_ownership_OTHER</th>\n",
       "      <th>person_home_ownership_OWN</th>\n",
       "      <th>person_home_ownership_RENT</th>\n",
       "      <th>loan_intent_EDUCATION</th>\n",
       "      <th>...</th>\n",
       "      <th>person_age_binned_40-50</th>\n",
       "      <th>person_age_binned_50-60</th>\n",
       "      <th>person_age_binned_60-70</th>\n",
       "      <th>person_age_binned_70-80</th>\n",
       "      <th>person_age_binned_80-90</th>\n",
       "      <th>person_age_binned_90-100</th>\n",
       "      <th>person_emp_length_binned_10-20</th>\n",
       "      <th>person_emp_length_binned_20-30</th>\n",
       "      <th>person_emp_length_binned_30-40</th>\n",
       "      <th>person_emp_length_binned_40-50</th>\n",
       "    </tr>\n",
       "  </thead>\n",
       "  <tbody>\n",
       "    <tr>\n",
       "      <th>0</th>\n",
       "      <td>83000</td>\n",
       "      <td>14000</td>\n",
       "      <td>8.49</td>\n",
       "      <td>0</td>\n",
       "      <td>0.17</td>\n",
       "      <td>2</td>\n",
       "      <td>0</td>\n",
       "      <td>0</td>\n",
       "      <td>0</td>\n",
       "      <td>0</td>\n",
       "      <td>...</td>\n",
       "      <td>0</td>\n",
       "      <td>0</td>\n",
       "      <td>0</td>\n",
       "      <td>0</td>\n",
       "      <td>0</td>\n",
       "      <td>0</td>\n",
       "      <td>0</td>\n",
       "      <td>0</td>\n",
       "      <td>0</td>\n",
       "      <td>0</td>\n",
       "    </tr>\n",
       "    <tr>\n",
       "      <th>1</th>\n",
       "      <td>110004</td>\n",
       "      <td>15000</td>\n",
       "      <td>10.99</td>\n",
       "      <td>0</td>\n",
       "      <td>0.14</td>\n",
       "      <td>5</td>\n",
       "      <td>0</td>\n",
       "      <td>0</td>\n",
       "      <td>0</td>\n",
       "      <td>1</td>\n",
       "      <td>...</td>\n",
       "      <td>0</td>\n",
       "      <td>0</td>\n",
       "      <td>0</td>\n",
       "      <td>0</td>\n",
       "      <td>0</td>\n",
       "      <td>0</td>\n",
       "      <td>0</td>\n",
       "      <td>0</td>\n",
       "      <td>0</td>\n",
       "      <td>0</td>\n",
       "    </tr>\n",
       "    <tr>\n",
       "      <th>2</th>\n",
       "      <td>42000</td>\n",
       "      <td>5000</td>\n",
       "      <td>11.91</td>\n",
       "      <td>0</td>\n",
       "      <td>0.12</td>\n",
       "      <td>4</td>\n",
       "      <td>0</td>\n",
       "      <td>0</td>\n",
       "      <td>1</td>\n",
       "      <td>0</td>\n",
       "      <td>...</td>\n",
       "      <td>0</td>\n",
       "      <td>0</td>\n",
       "      <td>0</td>\n",
       "      <td>0</td>\n",
       "      <td>0</td>\n",
       "      <td>0</td>\n",
       "      <td>0</td>\n",
       "      <td>0</td>\n",
       "      <td>0</td>\n",
       "      <td>0</td>\n",
       "    </tr>\n",
       "    <tr>\n",
       "      <th>3</th>\n",
       "      <td>50004</td>\n",
       "      <td>8000</td>\n",
       "      <td>12.73</td>\n",
       "      <td>0</td>\n",
       "      <td>0.16</td>\n",
       "      <td>4</td>\n",
       "      <td>0</td>\n",
       "      <td>0</td>\n",
       "      <td>1</td>\n",
       "      <td>0</td>\n",
       "      <td>...</td>\n",
       "      <td>0</td>\n",
       "      <td>0</td>\n",
       "      <td>0</td>\n",
       "      <td>0</td>\n",
       "      <td>0</td>\n",
       "      <td>0</td>\n",
       "      <td>0</td>\n",
       "      <td>0</td>\n",
       "      <td>0</td>\n",
       "      <td>0</td>\n",
       "    </tr>\n",
       "    <tr>\n",
       "      <th>4</th>\n",
       "      <td>45204</td>\n",
       "      <td>5000</td>\n",
       "      <td>9.63</td>\n",
       "      <td>0</td>\n",
       "      <td>0.11</td>\n",
       "      <td>9</td>\n",
       "      <td>0</td>\n",
       "      <td>0</td>\n",
       "      <td>0</td>\n",
       "      <td>0</td>\n",
       "      <td>...</td>\n",
       "      <td>0</td>\n",
       "      <td>0</td>\n",
       "      <td>0</td>\n",
       "      <td>0</td>\n",
       "      <td>0</td>\n",
       "      <td>0</td>\n",
       "      <td>0</td>\n",
       "      <td>0</td>\n",
       "      <td>0</td>\n",
       "      <td>0</td>\n",
       "    </tr>\n",
       "    <tr>\n",
       "      <th>5</th>\n",
       "      <td>60000</td>\n",
       "      <td>12000</td>\n",
       "      <td>7.90</td>\n",
       "      <td>0</td>\n",
       "      <td>0.20</td>\n",
       "      <td>3</td>\n",
       "      <td>0</td>\n",
       "      <td>0</td>\n",
       "      <td>0</td>\n",
       "      <td>0</td>\n",
       "      <td>...</td>\n",
       "      <td>0</td>\n",
       "      <td>0</td>\n",
       "      <td>0</td>\n",
       "      <td>0</td>\n",
       "      <td>0</td>\n",
       "      <td>0</td>\n",
       "      <td>0</td>\n",
       "      <td>0</td>\n",
       "      <td>0</td>\n",
       "      <td>0</td>\n",
       "    </tr>\n",
       "    <tr>\n",
       "      <th>6</th>\n",
       "      <td>48000</td>\n",
       "      <td>14550</td>\n",
       "      <td>9.62</td>\n",
       "      <td>0</td>\n",
       "      <td>0.30</td>\n",
       "      <td>3</td>\n",
       "      <td>0</td>\n",
       "      <td>0</td>\n",
       "      <td>1</td>\n",
       "      <td>0</td>\n",
       "      <td>...</td>\n",
       "      <td>0</td>\n",
       "      <td>0</td>\n",
       "      <td>0</td>\n",
       "      <td>0</td>\n",
       "      <td>0</td>\n",
       "      <td>0</td>\n",
       "      <td>0</td>\n",
       "      <td>0</td>\n",
       "      <td>0</td>\n",
       "      <td>0</td>\n",
       "    </tr>\n",
       "    <tr>\n",
       "      <th>7</th>\n",
       "      <td>60000</td>\n",
       "      <td>3500</td>\n",
       "      <td>5.42</td>\n",
       "      <td>0</td>\n",
       "      <td>0.06</td>\n",
       "      <td>2</td>\n",
       "      <td>0</td>\n",
       "      <td>0</td>\n",
       "      <td>1</td>\n",
       "      <td>0</td>\n",
       "      <td>...</td>\n",
       "      <td>0</td>\n",
       "      <td>0</td>\n",
       "      <td>0</td>\n",
       "      <td>0</td>\n",
       "      <td>0</td>\n",
       "      <td>0</td>\n",
       "      <td>0</td>\n",
       "      <td>0</td>\n",
       "      <td>0</td>\n",
       "      <td>0</td>\n",
       "    </tr>\n",
       "    <tr>\n",
       "      <th>8</th>\n",
       "      <td>67450</td>\n",
       "      <td>4000</td>\n",
       "      <td>6.76</td>\n",
       "      <td>0</td>\n",
       "      <td>0.06</td>\n",
       "      <td>3</td>\n",
       "      <td>0</td>\n",
       "      <td>0</td>\n",
       "      <td>1</td>\n",
       "      <td>1</td>\n",
       "      <td>...</td>\n",
       "      <td>0</td>\n",
       "      <td>0</td>\n",
       "      <td>0</td>\n",
       "      <td>0</td>\n",
       "      <td>0</td>\n",
       "      <td>0</td>\n",
       "      <td>0</td>\n",
       "      <td>0</td>\n",
       "      <td>0</td>\n",
       "      <td>0</td>\n",
       "    </tr>\n",
       "    <tr>\n",
       "      <th>9</th>\n",
       "      <td>54000</td>\n",
       "      <td>4800</td>\n",
       "      <td>12.99</td>\n",
       "      <td>0</td>\n",
       "      <td>0.09</td>\n",
       "      <td>10</td>\n",
       "      <td>0</td>\n",
       "      <td>0</td>\n",
       "      <td>1</td>\n",
       "      <td>0</td>\n",
       "      <td>...</td>\n",
       "      <td>0</td>\n",
       "      <td>0</td>\n",
       "      <td>0</td>\n",
       "      <td>0</td>\n",
       "      <td>0</td>\n",
       "      <td>0</td>\n",
       "      <td>0</td>\n",
       "      <td>0</td>\n",
       "      <td>0</td>\n",
       "      <td>0</td>\n",
       "    </tr>\n",
       "  </tbody>\n",
       "</table>\n",
       "<p>10 rows × 32 columns</p>\n",
       "</div>"
      ],
      "text/plain": [
       "   person_income  loan_amnt  loan_int_rate  loan_status  loan_percent_income  \\\n",
       "0          83000      14000           8.49            0                 0.17   \n",
       "1         110004      15000          10.99            0                 0.14   \n",
       "2          42000       5000          11.91            0                 0.12   \n",
       "3          50004       8000          12.73            0                 0.16   \n",
       "4          45204       5000           9.63            0                 0.11   \n",
       "5          60000      12000           7.90            0                 0.20   \n",
       "6          48000      14550           9.62            0                 0.30   \n",
       "7          60000       3500           5.42            0                 0.06   \n",
       "8          67450       4000           6.76            0                 0.06   \n",
       "9          54000       4800          12.99            0                 0.09   \n",
       "\n",
       "   cb_person_cred_hist_length  person_home_ownership_OTHER  \\\n",
       "0                           2                            0   \n",
       "1                           5                            0   \n",
       "2                           4                            0   \n",
       "3                           4                            0   \n",
       "4                           9                            0   \n",
       "5                           3                            0   \n",
       "6                           3                            0   \n",
       "7                           2                            0   \n",
       "8                           3                            0   \n",
       "9                          10                            0   \n",
       "\n",
       "   person_home_ownership_OWN  person_home_ownership_RENT  \\\n",
       "0                          0                           0   \n",
       "1                          0                           0   \n",
       "2                          0                           1   \n",
       "3                          0                           1   \n",
       "4                          0                           0   \n",
       "5                          0                           0   \n",
       "6                          0                           1   \n",
       "7                          0                           1   \n",
       "8                          0                           1   \n",
       "9                          0                           1   \n",
       "\n",
       "   loan_intent_EDUCATION  ...  person_age_binned_40-50  \\\n",
       "0                      0  ...                        0   \n",
       "1                      1  ...                        0   \n",
       "2                      0  ...                        0   \n",
       "3                      0  ...                        0   \n",
       "4                      0  ...                        0   \n",
       "5                      0  ...                        0   \n",
       "6                      0  ...                        0   \n",
       "7                      0  ...                        0   \n",
       "8                      1  ...                        0   \n",
       "9                      0  ...                        0   \n",
       "\n",
       "   person_age_binned_50-60  person_age_binned_60-70  person_age_binned_70-80  \\\n",
       "0                        0                        0                        0   \n",
       "1                        0                        0                        0   \n",
       "2                        0                        0                        0   \n",
       "3                        0                        0                        0   \n",
       "4                        0                        0                        0   \n",
       "5                        0                        0                        0   \n",
       "6                        0                        0                        0   \n",
       "7                        0                        0                        0   \n",
       "8                        0                        0                        0   \n",
       "9                        0                        0                        0   \n",
       "\n",
       "   person_age_binned_80-90  person_age_binned_90-100  \\\n",
       "0                        0                         0   \n",
       "1                        0                         0   \n",
       "2                        0                         0   \n",
       "3                        0                         0   \n",
       "4                        0                         0   \n",
       "5                        0                         0   \n",
       "6                        0                         0   \n",
       "7                        0                         0   \n",
       "8                        0                         0   \n",
       "9                        0                         0   \n",
       "\n",
       "   person_emp_length_binned_10-20  person_emp_length_binned_20-30  \\\n",
       "0                               0                               0   \n",
       "1                               0                               0   \n",
       "2                               0                               0   \n",
       "3                               0                               0   \n",
       "4                               0                               0   \n",
       "5                               0                               0   \n",
       "6                               0                               0   \n",
       "7                               0                               0   \n",
       "8                               0                               0   \n",
       "9                               0                               0   \n",
       "\n",
       "   person_emp_length_binned_30-40  person_emp_length_binned_40-50  \n",
       "0                               0                               0  \n",
       "1                               0                               0  \n",
       "2                               0                               0  \n",
       "3                               0                               0  \n",
       "4                               0                               0  \n",
       "5                               0                               0  \n",
       "6                               0                               0  \n",
       "7                               0                               0  \n",
       "8                               0                               0  \n",
       "9                               0                               0  \n",
       "\n",
       "[10 rows x 32 columns]"
      ]
     },
     "execution_count": 75,
     "metadata": {},
     "output_type": "execute_result"
    }
   ],
   "source": [
    "sample_df.head(10)"
   ]
  },
  {
   "cell_type": "code",
   "execution_count": 76,
   "id": "3dd1153b",
   "metadata": {},
   "outputs": [
    {
     "data": {
      "text/plain": [
       "Text(0.5, 1.0, 'Distribution of Loan Status for our dataset')"
      ]
     },
     "execution_count": 76,
     "metadata": {},
     "output_type": "execute_result"
    },
    {
     "data": {
      "image/png": "[encoded data removed]",
      "text/plain": [
       "<Figure size 640x480 with 1 Axes>"
      ]
     },
     "metadata": {},
     "output_type": "display_data"
    }
   ],
   "source": [
    "sns.countplot(x=\"loan_status\", data=sample_df).set_title('Distribution of Loan Status for our dataset')"
   ]
  },
  {
   "cell_type": "code",
   "execution_count": 77,
   "id": "33336ed1",
   "metadata": {},
   "outputs": [
    {
     "data": {
      "text/plain": [
       "0    7107\n",
       "1    7107\n",
       "Name: loan_status, dtype: int64"
      ]
     },
     "execution_count": 77,
     "metadata": {},
     "output_type": "execute_result"
    }
   ],
   "source": [
    "sample_df['loan_status'].value_counts()"
   ]
  },
  {
   "cell_type": "code",
   "execution_count": 78,
   "id": "7512ea40",
   "metadata": {},
   "outputs": [
    {
     "data": {
      "text/plain": [
       "(14214, 32)"
      ]
     },
     "execution_count": 78,
     "metadata": {},
     "output_type": "execute_result"
    }
   ],
   "source": [
    "sample_df.shape"
   ]
  },
  {
   "cell_type": "markdown",
   "id": "ee7a85e3",
   "metadata": {},
   "source": [
    "# 5) Model Building - Phase 2\n",
    "- Now we have handled the imbalanced data using the above under sampling technique.\n",
    "\n",
    "- We have performed a train-test split on our training dataset using 70-30 as the size. This will help prevent our models from overfitting and we will also be able to perform hyper-parameter tuning on training set\n",
    "\n",
    "Models used are as below: \n",
    "- Logistic Regression\n",
    "- Decision Tree\n",
    "- Random Forest\n"
   ]
  },
  {
   "cell_type": "markdown",
   "id": "5cb8f0a1",
   "metadata": {},
   "source": [
    "### Evaluation Metric: Recall\n",
    "- For credit risk classification problem statement, it is extremely important for our models to reduce the number of 'false-negatives'. We do not want our models to predict a customer as 'non defaulter' when that customer actually 'is a defaulter'"
   ]
  },
  {
   "cell_type": "markdown",
   "id": "d1323bd3",
   "metadata": {},
   "source": [
    "### 5a) Logistic Regression"
   ]
  },
  {
   "cell_type": "code",
   "execution_count": 79,
   "id": "935f8182",
   "metadata": {},
   "outputs": [
    {
     "name": "stdout",
     "output_type": "stream",
     "text": [
      "[-0.00776644] [[-3.45835013e-05  8.23177730e-05  1.28531000e-01  1.27405422e-03\n",
      "  -5.11338247e-02  1.48272123e-04 -8.91495908e-03  1.50243789e-02\n",
      "  -6.76033024e-03  3.78565367e-03  1.90881335e-03 -3.27888073e-03\n",
      "  -9.82720382e-03 -1.53490503e-02 -6.30132624e-03  2.31545173e-02\n",
      "   7.13543055e-03  1.62797298e-03  7.14683122e-04  1.32221175e-02\n",
      "  -1.42794424e-03 -6.86878655e-04  1.95905185e-04  1.02187255e-04\n",
      "  -2.50384174e-05  0.00000000e+00  0.00000000e+00 -1.57848936e-03\n",
      "  -1.44931426e-05 -2.13355410e-05  0.00000000e+00]]\n"
     ]
    }
   ],
   "source": [
    "x = [col for col in sample_df.columns if col != 'loan_status']\n",
    "\n",
    "X_train, X_test, Y_train, Y_test = train_test_split(sample_df[x], sample_df['loan_status'], test_size=0.30, random_state=9)\n",
    "\n",
    "lg=LogisticRegression()\n",
    "lg.fit(X_train,Y_train)\n",
    "\n",
    "print(lg.intercept_, lg.coef_)"
   ]
  },
  {
   "cell_type": "code",
   "execution_count": 80,
   "id": "4f283667",
   "metadata": {},
   "outputs": [
    {
     "name": "stdout",
     "output_type": "stream",
     "text": [
      "Accuracy of Logistic Regression: 0.7188745603751465\n",
      "Precision of Logistic Regression: 0.6957217113154738\n",
      "Recall of Logistic Regression: 0.7988980716253443\n",
      "F1 Score of Logistic Regression: 0.7437486642444967\n"
     ]
    }
   ],
   "source": [
    "pred = lg.predict(X_test)\n",
    "actual = Y_test\n",
    "accuracy = accuracy_score(actual,pred)\n",
    "precision = precision_score(actual,pred)\n",
    "recall = recall_score(actual,pred)\n",
    "f1 = f1_score(actual, pred)\n",
    "print('Accuracy of Logistic Regression: ' + str(accuracy))\n",
    "print('Precision of Logistic Regression: ' + str(precision))\n",
    "print('Recall of Logistic Regression: ' + str(recall))\n",
    "print('F1 Score of Logistic Regression: ' + str(f1))"
   ]
  },
  {
   "cell_type": "code",
   "execution_count": 81,
   "id": "9b4dbc6c",
   "metadata": {},
   "outputs": [
    {
     "data": {
      "text/plain": [
       "array([[1326,  761],\n",
       "       [ 438, 1740]], dtype=int64)"
      ]
     },
     "execution_count": 81,
     "metadata": {},
     "output_type": "execute_result"
    }
   ],
   "source": [
    "conf_matrix = confusion_matrix(actual,pred)\n",
    "conf_matrix"
   ]
  },
  {
   "cell_type": "markdown",
   "id": "defae98a",
   "metadata": {},
   "source": [
    "### 5b) Decision Tree"
   ]
  },
  {
   "cell_type": "code",
   "execution_count": 82,
   "id": "5c81ea82",
   "metadata": {},
   "outputs": [
    {
     "data": {
      "text/plain": [
       "DecisionTreeClassifier(max_depth=4)"
      ]
     },
     "execution_count": 82,
     "metadata": {},
     "output_type": "execute_result"
    }
   ],
   "source": [
    "dt_clf = DecisionTreeClassifier(max_depth=4)\n",
    "dt_clf.fit(X_train, Y_train)"
   ]
  },
  {
   "cell_type": "code",
   "execution_count": 83,
   "id": "13ba67e6",
   "metadata": {},
   "outputs": [
    {
     "name": "stdout",
     "output_type": "stream",
     "text": [
      "Accuracy of Decision Tree: 0.830715123094959\n",
      "Precision of Decision Tree: 0.9307692307692308\n",
      "Recall of Decision Tree: 0.7222222222222222\n",
      "F1 Score of Decision Tree: 0.813340227507756\n"
     ]
    }
   ],
   "source": [
    "pred = dt_clf.predict(X_test)\n",
    "actual = Y_test\n",
    "accuracy = accuracy_score(actual,pred)\n",
    "precision = precision_score(actual,pred)\n",
    "recall = recall_score(actual,pred)\n",
    "f1 = f1_score(actual, pred)\n",
    "print('Accuracy of Decision Tree: ' + str(accuracy))\n",
    "print('Precision of Decision Tree: ' + str(precision))\n",
    "print('Recall of Decision Tree: ' + str(recall))\n",
    "print('F1 Score of Decision Tree: ' + str(f1))"
   ]
  },
  {
   "cell_type": "code",
   "execution_count": 84,
   "id": "428a33c2",
   "metadata": {},
   "outputs": [
    {
     "data": {
      "text/plain": [
       "array([[1970,  117],\n",
       "       [ 605, 1573]], dtype=int64)"
      ]
     },
     "execution_count": 84,
     "metadata": {},
     "output_type": "execute_result"
    }
   ],
   "source": [
    "conf_matrix = confusion_matrix(actual,pred)\n",
    "conf_matrix"
   ]
  },
  {
   "cell_type": "markdown",
   "id": "35d8d767",
   "metadata": {},
   "source": [
    "### 5c) Random Forest"
   ]
  },
  {
   "cell_type": "code",
   "execution_count": 85,
   "id": "5a136fcd",
   "metadata": {},
   "outputs": [
    {
     "data": {
      "text/plain": [
       "RandomForestClassifier(random_state=42)"
      ]
     },
     "execution_count": 85,
     "metadata": {},
     "output_type": "execute_result"
    }
   ],
   "source": [
    "rf_clf = RandomForestClassifier(n_estimators=100, random_state=42)\n",
    "rf_clf.fit(X_train, Y_train)"
   ]
  },
  {
   "cell_type": "code",
   "execution_count": 86,
   "id": "ade38644",
   "metadata": {},
   "outputs": [
    {
     "name": "stdout",
     "output_type": "stream",
     "text": [
      "Accuracy of Random Forest: 0.8508792497069168\n",
      "Precision of Random Forest: 0.8933673469387755\n",
      "Recall of Random Forest: 0.8039485766758494\n",
      "F1 Score of Random Forest: 0.8463025616239729\n"
     ]
    }
   ],
   "source": [
    "pred = rf_clf.predict(X_test)\n",
    "actual = Y_test\n",
    "accuracy = accuracy_score(actual,pred)\n",
    "precision = precision_score(actual,pred)\n",
    "recall = recall_score(actual,pred)\n",
    "f1 = f1_score(actual, pred)\n",
    "print('Accuracy of Random Forest: ' + str(accuracy))\n",
    "print('Precision of Random Forest: ' + str(precision))\n",
    "print('Recall of Random Forest: ' + str(recall))\n",
    "print('F1 Score of Random Forest: ' + str(f1))"
   ]
  },
  {
   "cell_type": "code",
   "execution_count": 87,
   "id": "d2556420",
   "metadata": {},
   "outputs": [
    {
     "data": {
      "text/plain": [
       "array([[1878,  209],\n",
       "       [ 427, 1751]], dtype=int64)"
      ]
     },
     "execution_count": 87,
     "metadata": {},
     "output_type": "execute_result"
    }
   ],
   "source": [
    "conf_matrix = confusion_matrix(actual,pred)\n",
    "conf_matrix"
   ]
  },
  {
   "cell_type": "markdown",
   "id": "3b4a0937",
   "metadata": {},
   "source": [
    "###  Summary of model performance"
   ]
  },
  {
   "cell_type": "code",
   "execution_count": 88,
   "id": "e6a792fe",
   "metadata": {},
   "outputs": [],
   "source": [
    "# Creating a summary table for the model names, their recall, accuracy scores, Precision and F1 Score\n",
    "best_models1 = pd.DataFrame({\"Classification Model\":[\"Logistic Regression\",\"Decision Tree\",\"Random Forest\",],\n",
    "                            \"Accuracy\":[71.88, 83.07, 85.08],\n",
    "                            \"Precision\": [69.67, 93.07, 89.33],\n",
    "                            \"Recall\":[79.88, 72.22, 80.39],\n",
    "                            \"F1 Score\": [74.37, 81.33, 84.63]\n",
    "                           })"
   ]
  },
  {
   "cell_type": "code",
   "execution_count": 89,
   "id": "237ae96c",
   "metadata": {
    "scrolled": false
   },
   "outputs": [
    {
     "data": {
      "text/html": [
       "<div>\n",
       "<style scoped>\n",
       "    .dataframe tbody tr th:only-of-type {\n",
       "        vertical-align: middle;\n",
       "    }\n",
       "\n",
       "    .dataframe tbody tr th {\n",
       "        vertical-align: top;\n",
       "    }\n",
       "\n",
       "    .dataframe thead th {\n",
       "        text-align: right;\n",
       "    }\n",
       "</style>\n",
       "<table border=\"1\" class=\"dataframe\">\n",
       "  <thead>\n",
       "    <tr style=\"text-align: right;\">\n",
       "      <th></th>\n",
       "      <th>Classification Model</th>\n",
       "      <th>Accuracy</th>\n",
       "      <th>Precision</th>\n",
       "      <th>Recall</th>\n",
       "      <th>F1 Score</th>\n",
       "    </tr>\n",
       "  </thead>\n",
       "  <tbody>\n",
       "    <tr>\n",
       "      <th>2</th>\n",
       "      <td>Random Forest</td>\n",
       "      <td>85.08</td>\n",
       "      <td>89.33</td>\n",
       "      <td>80.39</td>\n",
       "      <td>84.63</td>\n",
       "    </tr>\n",
       "    <tr>\n",
       "      <th>0</th>\n",
       "      <td>Logistic Regression</td>\n",
       "      <td>71.88</td>\n",
       "      <td>69.67</td>\n",
       "      <td>79.88</td>\n",
       "      <td>74.37</td>\n",
       "    </tr>\n",
       "    <tr>\n",
       "      <th>1</th>\n",
       "      <td>Decision Tree</td>\n",
       "      <td>83.07</td>\n",
       "      <td>93.07</td>\n",
       "      <td>72.22</td>\n",
       "      <td>81.33</td>\n",
       "    </tr>\n",
       "  </tbody>\n",
       "</table>\n",
       "</div>"
      ],
      "text/plain": [
       "  Classification Model  Accuracy  Precision  Recall  F1 Score\n",
       "2        Random Forest     85.08      89.33   80.39     84.63\n",
       "0  Logistic Regression     71.88      69.67   79.88     74.37\n",
       "1        Decision Tree     83.07      93.07   72.22     81.33"
      ]
     },
     "execution_count": 89,
     "metadata": {},
     "output_type": "execute_result"
    }
   ],
   "source": [
    "# Printing the best_models summary table sorted by Recall\n",
    "best_models1.sort_values(by=\"Recall\",ascending=False)"
   ]
  },
  {
   "cell_type": "code",
   "execution_count": 90,
   "id": "36618f78",
   "metadata": {},
   "outputs": [
    {
     "name": "stdout",
     "output_type": "stream",
     "text": [
      "person_income: 0.1812862187566861\n",
      "loan_amnt: 0.10495669070310419\n",
      "loan_int_rate: 0.16435668156371705\n",
      "loan_percent_income: 0.2106519745611995\n",
      "cb_person_cred_hist_length: 0.05583672990191847\n",
      "person_home_ownership_OTHER: 0.0009805638906720752\n",
      "person_home_ownership_OWN: 0.01527150722750541\n",
      "person_home_ownership_RENT: 0.05486219291896019\n",
      "loan_intent_EDUCATION: 0.012862045260456064\n",
      "loan_intent_HOMEIMPROVEMENT: 0.014177382305149498\n",
      "loan_intent_MEDICAL: 0.010172456353441493\n",
      "loan_intent_PERSONAL: 0.011282356841790929\n",
      "loan_intent_VENTURE: 0.014586650750933258\n",
      "loan_grade_B: 0.008363894014828975\n",
      "loan_grade_C: 0.017580724250153543\n",
      "loan_grade_D: 0.05567051883543703\n",
      "loan_grade_E: 0.017960275186350603\n",
      "loan_grade_F: 0.004518766899565547\n",
      "loan_grade_G: 0.001712024886471856\n",
      "cb_person_default_on_file_Y: 0.02035405366694328\n",
      "person_age_binned_30-40: 0.009689760549290705\n",
      "person_age_binned_40-50: 0.0036136445218304288\n",
      "person_age_binned_50-60: 0.0008860474211393721\n",
      "person_age_binned_60-70: 0.00026581058226904245\n",
      "person_age_binned_70-80: 7.030894023199397e-07\n",
      "person_age_binned_80-90: 0.0\n",
      "person_age_binned_90-100: 0.0\n",
      "person_emp_length_binned_10-20: 0.007099169522337306\n",
      "person_emp_length_binned_20-30: 0.0009956710797904625\n",
      "person_emp_length_binned_30-40: 5.484458655193116e-06\n",
      "person_emp_length_binned_40-50: 0.0\n"
     ]
    }
   ],
   "source": [
    "# Feature importance calculation\n",
    "importances = rf_clf.feature_importances_\n",
    "for feature, importance in zip(X_train.columns, importances):\n",
    "    print(f\"{feature}: {importance}\")\n",
    "\n",
    "    \n",
    "# The most important features are : loan_percent_income, loan_int_rate, person_income, loan_amt"
   ]
  },
  {
   "cell_type": "code",
   "execution_count": null,
   "id": "511a598b",
   "metadata": {},
   "outputs": [],
   "source": []
  },
  {
   "cell_type": "code",
   "execution_count": null,
   "id": "ddfa057f",
   "metadata": {},
   "outputs": [],
   "source": []
  },
  {
   "cell_type": "code",
   "execution_count": null,
   "id": "42241303",
   "metadata": {},
   "outputs": [],
   "source": []
  },
  {
   "cell_type": "code",
   "execution_count": null,
   "id": "4dee031f",
   "metadata": {},
   "outputs": [],
   "source": []
  },
  {
   "cell_type": "code",
   "execution_count": null,
   "id": "23279228",
   "metadata": {},
   "outputs": [],
   "source": []
  },
  {
   "cell_type": "code",
   "execution_count": null,
   "id": "04efb7e3",
   "metadata": {},
   "outputs": [],
   "source": []
  }
 ],
 "metadata": {
  "kernelspec": {
   "display_name": "Python 3 (ipykernel)",
   "language": "python",
   "name": "python3"
  },
  "language_info": {
   "codemirror_mode": {
    "name": "ipython",
    "version": 3
   },
   "file_extension": ".py",
   "mimetype": "text/x-python",
   "name": "python",
   "nbconvert_exporter": "python",
   "pygments_lexer": "ipython3",
   "version": "3.9.13"
  }
 },
 "nbformat": 4,
 "nbformat_minor": 5
}
